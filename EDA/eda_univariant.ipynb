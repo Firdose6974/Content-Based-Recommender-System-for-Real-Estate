{
  "cells": [
    {
      "cell_type": "code",
      "execution_count": 1,
      "id": "54076bbd",
      "metadata": {
        "id": "54076bbd"
      },
      "outputs": [],
      "source": [
        "import pandas as pd\n",
        "import numpy as np\n",
        "import matplotlib.pyplot as plt\n",
        "import seaborn as sns\n",
        "from scipy.stats import chi2_contingency\n",
        "from collections import Counter\n",
        "import re"
      ]
    },
    {
      "cell_type": "code",
      "execution_count": 2,
      "id": "cf5aa6a2",
      "metadata": {
        "id": "cf5aa6a2"
      },
      "outputs": [],
      "source": [
        "df = pd.read_csv('indian_properties_cleaned_v1.csv')"
      ]
    },
    {
      "cell_type": "code",
      "execution_count": 3,
      "id": "ca3369b7",
      "metadata": {
        "colab": {
          "base_uri": "https://localhost:8080/",
          "height": 539
        },
        "id": "ca3369b7",
        "outputId": "3675961f-1a7f-4e43-e524-71a975ddabfa"
      },
      "outputs": [
        {
          "output_type": "execute_result",
          "data": {
            "text/plain": [
              "  property_type                 society      sector  price  price_per_sqft  \\\n",
              "0          flat  experion the heartsong  sector 108   1.68          8387.0   \n",
              "1          flat         emaar digihomes   sector 62   2.45         16000.0   \n",
              "2         house             independent   sector 43   5.50          2716.0   \n",
              "3         house             independent   sector 38   3.90         21242.0   \n",
              "4         house             independent   sector 27   4.25         31481.0   \n",
              "\n",
              "      area                                       areaWithType  bedRoom  \\\n",
              "0   2003.0  Super Built up area 2003(186.08 sq.m.)Built Up...        3   \n",
              "1   1531.0  Built Up area: 1200 (111.48 sq.m.)Carpet area:...        2   \n",
              "2  20250.0  Plot area 215(179.77 sq.m.)Built Up area: 2850...        8   \n",
              "3   1836.0                        Plot area 204(170.57 sq.m.)        6   \n",
              "4   1350.0  Plot area 163(136.29 sq.m.)Built Up area: 161 ...        5   \n",
              "\n",
              "   bathroom balcony                             additionalRoom  floorNum  \\\n",
              "0         3      3+                    servant room,study room       4.0   \n",
              "1         2       2                                 study room       7.0   \n",
              "2         7      3+  pooja room,study room,servant room,others       3.0   \n",
              "3         6      3+         pooja room,study room,servant room       3.0   \n",
              "4         5      3+                    pooja room,servant room       3.0   \n",
              "\n",
              "       facing     agePossession  \\\n",
              "0        East   1 to 5 Year Old   \n",
              "1  North-East   0 to 1 Year Old   \n",
              "2        East  5 to 10 Year Old   \n",
              "3  North-East  5 to 10 Year Old   \n",
              "4        East   1 to 5 Year Old   \n",
              "\n",
              "                                     nearbyLocations  \\\n",
              "0  ['Galleria 108 Mall', 'Dwarka Expressway', 'Ce...   \n",
              "1  ['Sector 55-56 Metro Station', 'Omaxe Gurgaon ...   \n",
              "2  ['Huda city centre metro station', 'New Life C...   \n",
              "3  ['Rajiv Chowk Mosque', 'Icici bank ATM', 'Stat...   \n",
              "4  ['Dlf phase 1 metro station', 'Sector 42-43 me...   \n",
              "\n",
              "                                      furnishDetails  \\\n",
              "0  ['3 Wardrobe', '6 Fan', '1 Exhaust Fan', '1 Ge...   \n",
              "1  ['1 Water Purifier', '2 Fan', '1 Fridge', '1 E...   \n",
              "2  ['8 Wardrobe', '10 Fan', '1 Exhaust Fan', '10 ...   \n",
              "3                                                NaN   \n",
              "4  ['10 Wardrobe', '1 Water Purifier', '7 Fan', '...   \n",
              "\n",
              "                                            features  \n",
              "0  ['Security / Fire Alarm', 'Power Back-up', 'Fe...  \n",
              "1  ['Centrally Air Conditioned', 'Water purifier'...  \n",
              "2  ['Private Garden / Terrace', 'Water purifier',...  \n",
              "3  ['Feng Shui / Vaastu Compliant', 'Maintenance ...  \n",
              "4  ['Feng Shui / Vaastu Compliant', 'Private Gard...  "
            ],
            "text/html": [
              "\n",
              "  <div id=\"df-1b3d0dcd-5588-4c0e-82ca-b626517e068e\" class=\"colab-df-container\">\n",
              "    <div>\n",
              "<style scoped>\n",
              "    .dataframe tbody tr th:only-of-type {\n",
              "        vertical-align: middle;\n",
              "    }\n",
              "\n",
              "    .dataframe tbody tr th {\n",
              "        vertical-align: top;\n",
              "    }\n",
              "\n",
              "    .dataframe thead th {\n",
              "        text-align: right;\n",
              "    }\n",
              "</style>\n",
              "<table border=\"1\" class=\"dataframe\">\n",
              "  <thead>\n",
              "    <tr style=\"text-align: right;\">\n",
              "      <th></th>\n",
              "      <th>property_type</th>\n",
              "      <th>society</th>\n",
              "      <th>sector</th>\n",
              "      <th>price</th>\n",
              "      <th>price_per_sqft</th>\n",
              "      <th>area</th>\n",
              "      <th>areaWithType</th>\n",
              "      <th>bedRoom</th>\n",
              "      <th>bathroom</th>\n",
              "      <th>balcony</th>\n",
              "      <th>additionalRoom</th>\n",
              "      <th>floorNum</th>\n",
              "      <th>facing</th>\n",
              "      <th>agePossession</th>\n",
              "      <th>nearbyLocations</th>\n",
              "      <th>furnishDetails</th>\n",
              "      <th>features</th>\n",
              "    </tr>\n",
              "  </thead>\n",
              "  <tbody>\n",
              "    <tr>\n",
              "      <th>0</th>\n",
              "      <td>flat</td>\n",
              "      <td>experion the heartsong</td>\n",
              "      <td>sector 108</td>\n",
              "      <td>1.68</td>\n",
              "      <td>8387.0</td>\n",
              "      <td>2003.0</td>\n",
              "      <td>Super Built up area 2003(186.08 sq.m.)Built Up...</td>\n",
              "      <td>3</td>\n",
              "      <td>3</td>\n",
              "      <td>3+</td>\n",
              "      <td>servant room,study room</td>\n",
              "      <td>4.0</td>\n",
              "      <td>East</td>\n",
              "      <td>1 to 5 Year Old</td>\n",
              "      <td>['Galleria 108 Mall', 'Dwarka Expressway', 'Ce...</td>\n",
              "      <td>['3 Wardrobe', '6 Fan', '1 Exhaust Fan', '1 Ge...</td>\n",
              "      <td>['Security / Fire Alarm', 'Power Back-up', 'Fe...</td>\n",
              "    </tr>\n",
              "    <tr>\n",
              "      <th>1</th>\n",
              "      <td>flat</td>\n",
              "      <td>emaar digihomes</td>\n",
              "      <td>sector 62</td>\n",
              "      <td>2.45</td>\n",
              "      <td>16000.0</td>\n",
              "      <td>1531.0</td>\n",
              "      <td>Built Up area: 1200 (111.48 sq.m.)Carpet area:...</td>\n",
              "      <td>2</td>\n",
              "      <td>2</td>\n",
              "      <td>2</td>\n",
              "      <td>study room</td>\n",
              "      <td>7.0</td>\n",
              "      <td>North-East</td>\n",
              "      <td>0 to 1 Year Old</td>\n",
              "      <td>['Sector 55-56 Metro Station', 'Omaxe Gurgaon ...</td>\n",
              "      <td>['1 Water Purifier', '2 Fan', '1 Fridge', '1 E...</td>\n",
              "      <td>['Centrally Air Conditioned', 'Water purifier'...</td>\n",
              "    </tr>\n",
              "    <tr>\n",
              "      <th>2</th>\n",
              "      <td>house</td>\n",
              "      <td>independent</td>\n",
              "      <td>sector 43</td>\n",
              "      <td>5.50</td>\n",
              "      <td>2716.0</td>\n",
              "      <td>20250.0</td>\n",
              "      <td>Plot area 215(179.77 sq.m.)Built Up area: 2850...</td>\n",
              "      <td>8</td>\n",
              "      <td>7</td>\n",
              "      <td>3+</td>\n",
              "      <td>pooja room,study room,servant room,others</td>\n",
              "      <td>3.0</td>\n",
              "      <td>East</td>\n",
              "      <td>5 to 10 Year Old</td>\n",
              "      <td>['Huda city centre metro station', 'New Life C...</td>\n",
              "      <td>['8 Wardrobe', '10 Fan', '1 Exhaust Fan', '10 ...</td>\n",
              "      <td>['Private Garden / Terrace', 'Water purifier',...</td>\n",
              "    </tr>\n",
              "    <tr>\n",
              "      <th>3</th>\n",
              "      <td>house</td>\n",
              "      <td>independent</td>\n",
              "      <td>sector 38</td>\n",
              "      <td>3.90</td>\n",
              "      <td>21242.0</td>\n",
              "      <td>1836.0</td>\n",
              "      <td>Plot area 204(170.57 sq.m.)</td>\n",
              "      <td>6</td>\n",
              "      <td>6</td>\n",
              "      <td>3+</td>\n",
              "      <td>pooja room,study room,servant room</td>\n",
              "      <td>3.0</td>\n",
              "      <td>North-East</td>\n",
              "      <td>5 to 10 Year Old</td>\n",
              "      <td>['Rajiv Chowk Mosque', 'Icici bank ATM', 'Stat...</td>\n",
              "      <td>NaN</td>\n",
              "      <td>['Feng Shui / Vaastu Compliant', 'Maintenance ...</td>\n",
              "    </tr>\n",
              "    <tr>\n",
              "      <th>4</th>\n",
              "      <td>house</td>\n",
              "      <td>independent</td>\n",
              "      <td>sector 27</td>\n",
              "      <td>4.25</td>\n",
              "      <td>31481.0</td>\n",
              "      <td>1350.0</td>\n",
              "      <td>Plot area 163(136.29 sq.m.)Built Up area: 161 ...</td>\n",
              "      <td>5</td>\n",
              "      <td>5</td>\n",
              "      <td>3+</td>\n",
              "      <td>pooja room,servant room</td>\n",
              "      <td>3.0</td>\n",
              "      <td>East</td>\n",
              "      <td>1 to 5 Year Old</td>\n",
              "      <td>['Dlf phase 1 metro station', 'Sector 42-43 me...</td>\n",
              "      <td>['10 Wardrobe', '1 Water Purifier', '7 Fan', '...</td>\n",
              "      <td>['Feng Shui / Vaastu Compliant', 'Private Gard...</td>\n",
              "    </tr>\n",
              "  </tbody>\n",
              "</table>\n",
              "</div>\n",
              "    <div class=\"colab-df-buttons\">\n",
              "\n",
              "  <div class=\"colab-df-container\">\n",
              "    <button class=\"colab-df-convert\" onclick=\"convertToInteractive('df-1b3d0dcd-5588-4c0e-82ca-b626517e068e')\"\n",
              "            title=\"Convert this dataframe to an interactive table.\"\n",
              "            style=\"display:none;\">\n",
              "\n",
              "  <svg xmlns=\"http://www.w3.org/2000/svg\" height=\"24px\" viewBox=\"0 -960 960 960\">\n",
              "    <path d=\"M120-120v-720h720v720H120Zm60-500h600v-160H180v160Zm220 220h160v-160H400v160Zm0 220h160v-160H400v160ZM180-400h160v-160H180v160Zm440 0h160v-160H620v160ZM180-180h160v-160H180v160Zm440 0h160v-160H620v160Z\"/>\n",
              "  </svg>\n",
              "    </button>\n",
              "\n",
              "  <style>\n",
              "    .colab-df-container {\n",
              "      display:flex;\n",
              "      gap: 12px;\n",
              "    }\n",
              "\n",
              "    .colab-df-convert {\n",
              "      background-color: #E8F0FE;\n",
              "      border: none;\n",
              "      border-radius: 50%;\n",
              "      cursor: pointer;\n",
              "      display: none;\n",
              "      fill: #1967D2;\n",
              "      height: 32px;\n",
              "      padding: 0 0 0 0;\n",
              "      width: 32px;\n",
              "    }\n",
              "\n",
              "    .colab-df-convert:hover {\n",
              "      background-color: #E2EBFA;\n",
              "      box-shadow: 0px 1px 2px rgba(60, 64, 67, 0.3), 0px 1px 3px 1px rgba(60, 64, 67, 0.15);\n",
              "      fill: #174EA6;\n",
              "    }\n",
              "\n",
              "    .colab-df-buttons div {\n",
              "      margin-bottom: 4px;\n",
              "    }\n",
              "\n",
              "    [theme=dark] .colab-df-convert {\n",
              "      background-color: #3B4455;\n",
              "      fill: #D2E3FC;\n",
              "    }\n",
              "\n",
              "    [theme=dark] .colab-df-convert:hover {\n",
              "      background-color: #434B5C;\n",
              "      box-shadow: 0px 1px 3px 1px rgba(0, 0, 0, 0.15);\n",
              "      filter: drop-shadow(0px 1px 2px rgba(0, 0, 0, 0.3));\n",
              "      fill: #FFFFFF;\n",
              "    }\n",
              "  </style>\n",
              "\n",
              "    <script>\n",
              "      const buttonEl =\n",
              "        document.querySelector('#df-1b3d0dcd-5588-4c0e-82ca-b626517e068e button.colab-df-convert');\n",
              "      buttonEl.style.display =\n",
              "        google.colab.kernel.accessAllowed ? 'block' : 'none';\n",
              "\n",
              "      async function convertToInteractive(key) {\n",
              "        const element = document.querySelector('#df-1b3d0dcd-5588-4c0e-82ca-b626517e068e');\n",
              "        const dataTable =\n",
              "          await google.colab.kernel.invokeFunction('convertToInteractive',\n",
              "                                                    [key], {});\n",
              "        if (!dataTable) return;\n",
              "\n",
              "        const docLinkHtml = 'Like what you see? Visit the ' +\n",
              "          '<a target=\"_blank\" href=https://colab.research.google.com/notebooks/data_table.ipynb>data table notebook</a>'\n",
              "          + ' to learn more about interactive tables.';\n",
              "        element.innerHTML = '';\n",
              "        dataTable['output_type'] = 'display_data';\n",
              "        await google.colab.output.renderOutput(dataTable, element);\n",
              "        const docLink = document.createElement('div');\n",
              "        docLink.innerHTML = docLinkHtml;\n",
              "        element.appendChild(docLink);\n",
              "      }\n",
              "    </script>\n",
              "  </div>\n",
              "\n",
              "\n",
              "<div id=\"df-e58bb2a8-9724-406f-9b0f-d9756598456b\">\n",
              "  <button class=\"colab-df-quickchart\" onclick=\"quickchart('df-e58bb2a8-9724-406f-9b0f-d9756598456b')\"\n",
              "            title=\"Suggest charts\"\n",
              "            style=\"display:none;\">\n",
              "\n",
              "<svg xmlns=\"http://www.w3.org/2000/svg\" height=\"24px\"viewBox=\"0 0 24 24\"\n",
              "     width=\"24px\">\n",
              "    <g>\n",
              "        <path d=\"M19 3H5c-1.1 0-2 .9-2 2v14c0 1.1.9 2 2 2h14c1.1 0 2-.9 2-2V5c0-1.1-.9-2-2-2zM9 17H7v-7h2v7zm4 0h-2V7h2v10zm4 0h-2v-4h2v4z\"/>\n",
              "    </g>\n",
              "</svg>\n",
              "  </button>\n",
              "\n",
              "<style>\n",
              "  .colab-df-quickchart {\n",
              "      --bg-color: #E8F0FE;\n",
              "      --fill-color: #1967D2;\n",
              "      --hover-bg-color: #E2EBFA;\n",
              "      --hover-fill-color: #174EA6;\n",
              "      --disabled-fill-color: #AAA;\n",
              "      --disabled-bg-color: #DDD;\n",
              "  }\n",
              "\n",
              "  [theme=dark] .colab-df-quickchart {\n",
              "      --bg-color: #3B4455;\n",
              "      --fill-color: #D2E3FC;\n",
              "      --hover-bg-color: #434B5C;\n",
              "      --hover-fill-color: #FFFFFF;\n",
              "      --disabled-bg-color: #3B4455;\n",
              "      --disabled-fill-color: #666;\n",
              "  }\n",
              "\n",
              "  .colab-df-quickchart {\n",
              "    background-color: var(--bg-color);\n",
              "    border: none;\n",
              "    border-radius: 50%;\n",
              "    cursor: pointer;\n",
              "    display: none;\n",
              "    fill: var(--fill-color);\n",
              "    height: 32px;\n",
              "    padding: 0;\n",
              "    width: 32px;\n",
              "  }\n",
              "\n",
              "  .colab-df-quickchart:hover {\n",
              "    background-color: var(--hover-bg-color);\n",
              "    box-shadow: 0 1px 2px rgba(60, 64, 67, 0.3), 0 1px 3px 1px rgba(60, 64, 67, 0.15);\n",
              "    fill: var(--button-hover-fill-color);\n",
              "  }\n",
              "\n",
              "  .colab-df-quickchart-complete:disabled,\n",
              "  .colab-df-quickchart-complete:disabled:hover {\n",
              "    background-color: var(--disabled-bg-color);\n",
              "    fill: var(--disabled-fill-color);\n",
              "    box-shadow: none;\n",
              "  }\n",
              "\n",
              "  .colab-df-spinner {\n",
              "    border: 2px solid var(--fill-color);\n",
              "    border-color: transparent;\n",
              "    border-bottom-color: var(--fill-color);\n",
              "    animation:\n",
              "      spin 1s steps(1) infinite;\n",
              "  }\n",
              "\n",
              "  @keyframes spin {\n",
              "    0% {\n",
              "      border-color: transparent;\n",
              "      border-bottom-color: var(--fill-color);\n",
              "      border-left-color: var(--fill-color);\n",
              "    }\n",
              "    20% {\n",
              "      border-color: transparent;\n",
              "      border-left-color: var(--fill-color);\n",
              "      border-top-color: var(--fill-color);\n",
              "    }\n",
              "    30% {\n",
              "      border-color: transparent;\n",
              "      border-left-color: var(--fill-color);\n",
              "      border-top-color: var(--fill-color);\n",
              "      border-right-color: var(--fill-color);\n",
              "    }\n",
              "    40% {\n",
              "      border-color: transparent;\n",
              "      border-right-color: var(--fill-color);\n",
              "      border-top-color: var(--fill-color);\n",
              "    }\n",
              "    60% {\n",
              "      border-color: transparent;\n",
              "      border-right-color: var(--fill-color);\n",
              "    }\n",
              "    80% {\n",
              "      border-color: transparent;\n",
              "      border-right-color: var(--fill-color);\n",
              "      border-bottom-color: var(--fill-color);\n",
              "    }\n",
              "    90% {\n",
              "      border-color: transparent;\n",
              "      border-bottom-color: var(--fill-color);\n",
              "    }\n",
              "  }\n",
              "</style>\n",
              "\n",
              "  <script>\n",
              "    async function quickchart(key) {\n",
              "      const quickchartButtonEl =\n",
              "        document.querySelector('#' + key + ' button');\n",
              "      quickchartButtonEl.disabled = true;  // To prevent multiple clicks.\n",
              "      quickchartButtonEl.classList.add('colab-df-spinner');\n",
              "      try {\n",
              "        const charts = await google.colab.kernel.invokeFunction(\n",
              "            'suggestCharts', [key], {});\n",
              "      } catch (error) {\n",
              "        console.error('Error during call to suggestCharts:', error);\n",
              "      }\n",
              "      quickchartButtonEl.classList.remove('colab-df-spinner');\n",
              "      quickchartButtonEl.classList.add('colab-df-quickchart-complete');\n",
              "    }\n",
              "    (() => {\n",
              "      let quickchartButtonEl =\n",
              "        document.querySelector('#df-e58bb2a8-9724-406f-9b0f-d9756598456b button');\n",
              "      quickchartButtonEl.style.display =\n",
              "        google.colab.kernel.accessAllowed ? 'block' : 'none';\n",
              "    })();\n",
              "  </script>\n",
              "</div>\n",
              "    </div>\n",
              "  </div>\n"
            ]
          },
          "metadata": {},
          "execution_count": 3
        }
      ],
      "source": [
        "df.head()"
      ]
    },
    {
      "cell_type": "code",
      "execution_count": 4,
      "id": "611a3665",
      "metadata": {
        "colab": {
          "base_uri": "https://localhost:8080/"
        },
        "id": "611a3665",
        "outputId": "f138d570-8415-4d20-a64a-0080b85a8891"
      },
      "outputs": [
        {
          "output_type": "execute_result",
          "data": {
            "text/plain": [
              "(3803, 17)"
            ]
          },
          "metadata": {},
          "execution_count": 4
        }
      ],
      "source": [
        "df.shape"
      ]
    },
    {
      "cell_type": "code",
      "execution_count": 5,
      "id": "82b8c41d",
      "metadata": {
        "colab": {
          "base_uri": "https://localhost:8080/"
        },
        "id": "82b8c41d",
        "outputId": "c80108a8-4cef-49c8-fd65-ac59c249138d"
      },
      "outputs": [
        {
          "output_type": "stream",
          "name": "stdout",
          "text": [
            "<class 'pandas.core.frame.DataFrame'>\n",
            "RangeIndex: 3803 entries, 0 to 3802\n",
            "Data columns (total 17 columns):\n",
            " #   Column           Non-Null Count  Dtype  \n",
            "---  ------           --------------  -----  \n",
            " 0   property_type    3803 non-null   object \n",
            " 1   society          3802 non-null   object \n",
            " 2   sector           3803 non-null   object \n",
            " 3   price            3785 non-null   float64\n",
            " 4   price_per_sqft   3785 non-null   float64\n",
            " 5   area             3785 non-null   float64\n",
            " 6   areaWithType     3803 non-null   object \n",
            " 7   bedRoom          3803 non-null   int64  \n",
            " 8   bathroom         3803 non-null   int64  \n",
            " 9   balcony          3803 non-null   object \n",
            " 10  additionalRoom   3803 non-null   object \n",
            " 11  floorNum         3784 non-null   float64\n",
            " 12  facing           2698 non-null   object \n",
            " 13  agePossession    3802 non-null   object \n",
            " 14  nearbyLocations  3626 non-null   object \n",
            " 15  furnishDetails   2822 non-null   object \n",
            " 16  features         3168 non-null   object \n",
            "dtypes: float64(4), int64(2), object(11)\n",
            "memory usage: 505.2+ KB\n"
          ]
        }
      ],
      "source": [
        "df.info()"
      ]
    },
    {
      "cell_type": "code",
      "execution_count": 6,
      "id": "7205eb3d",
      "metadata": {
        "colab": {
          "base_uri": "https://localhost:8080/"
        },
        "id": "7205eb3d",
        "outputId": "e700f5a3-314f-43da-c229-790722b25a11"
      },
      "outputs": [
        {
          "output_type": "execute_result",
          "data": {
            "text/plain": [
              "122"
            ]
          },
          "metadata": {},
          "execution_count": 6
        }
      ],
      "source": [
        "df.duplicated().sum()"
      ]
    },
    {
      "cell_type": "code",
      "execution_count": 7,
      "id": "5ff1b123",
      "metadata": {
        "id": "5ff1b123"
      },
      "outputs": [],
      "source": [
        "df.drop_duplicates(inplace=True)"
      ]
    },
    {
      "cell_type": "code",
      "execution_count": 8,
      "id": "2e7b8af3",
      "metadata": {
        "colab": {
          "base_uri": "https://localhost:8080/",
          "height": 539
        },
        "id": "2e7b8af3",
        "outputId": "b6cbdb75-f271-419c-bae5-87b9180701f9"
      },
      "outputs": [
        {
          "output_type": "execute_result",
          "data": {
            "text/plain": [
              "  property_type                 society      sector  price  price_per_sqft  \\\n",
              "0          flat  experion the heartsong  sector 108   1.68          8387.0   \n",
              "1          flat         emaar digihomes   sector 62   2.45         16000.0   \n",
              "2         house             independent   sector 43   5.50          2716.0   \n",
              "3         house             independent   sector 38   3.90         21242.0   \n",
              "4         house             independent   sector 27   4.25         31481.0   \n",
              "\n",
              "      area                                       areaWithType  bedRoom  \\\n",
              "0   2003.0  Super Built up area 2003(186.08 sq.m.)Built Up...        3   \n",
              "1   1531.0  Built Up area: 1200 (111.48 sq.m.)Carpet area:...        2   \n",
              "2  20250.0  Plot area 215(179.77 sq.m.)Built Up area: 2850...        8   \n",
              "3   1836.0                        Plot area 204(170.57 sq.m.)        6   \n",
              "4   1350.0  Plot area 163(136.29 sq.m.)Built Up area: 161 ...        5   \n",
              "\n",
              "   bathroom balcony                             additionalRoom  floorNum  \\\n",
              "0         3      3+                    servant room,study room       4.0   \n",
              "1         2       2                                 study room       7.0   \n",
              "2         7      3+  pooja room,study room,servant room,others       3.0   \n",
              "3         6      3+         pooja room,study room,servant room       3.0   \n",
              "4         5      3+                    pooja room,servant room       3.0   \n",
              "\n",
              "       facing     agePossession  \\\n",
              "0        East   1 to 5 Year Old   \n",
              "1  North-East   0 to 1 Year Old   \n",
              "2        East  5 to 10 Year Old   \n",
              "3  North-East  5 to 10 Year Old   \n",
              "4        East   1 to 5 Year Old   \n",
              "\n",
              "                                     nearbyLocations  \\\n",
              "0  ['Galleria 108 Mall', 'Dwarka Expressway', 'Ce...   \n",
              "1  ['Sector 55-56 Metro Station', 'Omaxe Gurgaon ...   \n",
              "2  ['Huda city centre metro station', 'New Life C...   \n",
              "3  ['Rajiv Chowk Mosque', 'Icici bank ATM', 'Stat...   \n",
              "4  ['Dlf phase 1 metro station', 'Sector 42-43 me...   \n",
              "\n",
              "                                      furnishDetails  \\\n",
              "0  ['3 Wardrobe', '6 Fan', '1 Exhaust Fan', '1 Ge...   \n",
              "1  ['1 Water Purifier', '2 Fan', '1 Fridge', '1 E...   \n",
              "2  ['8 Wardrobe', '10 Fan', '1 Exhaust Fan', '10 ...   \n",
              "3                                                NaN   \n",
              "4  ['10 Wardrobe', '1 Water Purifier', '7 Fan', '...   \n",
              "\n",
              "                                            features  \n",
              "0  ['Security / Fire Alarm', 'Power Back-up', 'Fe...  \n",
              "1  ['Centrally Air Conditioned', 'Water purifier'...  \n",
              "2  ['Private Garden / Terrace', 'Water purifier',...  \n",
              "3  ['Feng Shui / Vaastu Compliant', 'Maintenance ...  \n",
              "4  ['Feng Shui / Vaastu Compliant', 'Private Gard...  "
            ],
            "text/html": [
              "\n",
              "  <div id=\"df-b51aa107-af0c-45f2-b6d5-b3c5790a4db6\" class=\"colab-df-container\">\n",
              "    <div>\n",
              "<style scoped>\n",
              "    .dataframe tbody tr th:only-of-type {\n",
              "        vertical-align: middle;\n",
              "    }\n",
              "\n",
              "    .dataframe tbody tr th {\n",
              "        vertical-align: top;\n",
              "    }\n",
              "\n",
              "    .dataframe thead th {\n",
              "        text-align: right;\n",
              "    }\n",
              "</style>\n",
              "<table border=\"1\" class=\"dataframe\">\n",
              "  <thead>\n",
              "    <tr style=\"text-align: right;\">\n",
              "      <th></th>\n",
              "      <th>property_type</th>\n",
              "      <th>society</th>\n",
              "      <th>sector</th>\n",
              "      <th>price</th>\n",
              "      <th>price_per_sqft</th>\n",
              "      <th>area</th>\n",
              "      <th>areaWithType</th>\n",
              "      <th>bedRoom</th>\n",
              "      <th>bathroom</th>\n",
              "      <th>balcony</th>\n",
              "      <th>additionalRoom</th>\n",
              "      <th>floorNum</th>\n",
              "      <th>facing</th>\n",
              "      <th>agePossession</th>\n",
              "      <th>nearbyLocations</th>\n",
              "      <th>furnishDetails</th>\n",
              "      <th>features</th>\n",
              "    </tr>\n",
              "  </thead>\n",
              "  <tbody>\n",
              "    <tr>\n",
              "      <th>0</th>\n",
              "      <td>flat</td>\n",
              "      <td>experion the heartsong</td>\n",
              "      <td>sector 108</td>\n",
              "      <td>1.68</td>\n",
              "      <td>8387.0</td>\n",
              "      <td>2003.0</td>\n",
              "      <td>Super Built up area 2003(186.08 sq.m.)Built Up...</td>\n",
              "      <td>3</td>\n",
              "      <td>3</td>\n",
              "      <td>3+</td>\n",
              "      <td>servant room,study room</td>\n",
              "      <td>4.0</td>\n",
              "      <td>East</td>\n",
              "      <td>1 to 5 Year Old</td>\n",
              "      <td>['Galleria 108 Mall', 'Dwarka Expressway', 'Ce...</td>\n",
              "      <td>['3 Wardrobe', '6 Fan', '1 Exhaust Fan', '1 Ge...</td>\n",
              "      <td>['Security / Fire Alarm', 'Power Back-up', 'Fe...</td>\n",
              "    </tr>\n",
              "    <tr>\n",
              "      <th>1</th>\n",
              "      <td>flat</td>\n",
              "      <td>emaar digihomes</td>\n",
              "      <td>sector 62</td>\n",
              "      <td>2.45</td>\n",
              "      <td>16000.0</td>\n",
              "      <td>1531.0</td>\n",
              "      <td>Built Up area: 1200 (111.48 sq.m.)Carpet area:...</td>\n",
              "      <td>2</td>\n",
              "      <td>2</td>\n",
              "      <td>2</td>\n",
              "      <td>study room</td>\n",
              "      <td>7.0</td>\n",
              "      <td>North-East</td>\n",
              "      <td>0 to 1 Year Old</td>\n",
              "      <td>['Sector 55-56 Metro Station', 'Omaxe Gurgaon ...</td>\n",
              "      <td>['1 Water Purifier', '2 Fan', '1 Fridge', '1 E...</td>\n",
              "      <td>['Centrally Air Conditioned', 'Water purifier'...</td>\n",
              "    </tr>\n",
              "    <tr>\n",
              "      <th>2</th>\n",
              "      <td>house</td>\n",
              "      <td>independent</td>\n",
              "      <td>sector 43</td>\n",
              "      <td>5.50</td>\n",
              "      <td>2716.0</td>\n",
              "      <td>20250.0</td>\n",
              "      <td>Plot area 215(179.77 sq.m.)Built Up area: 2850...</td>\n",
              "      <td>8</td>\n",
              "      <td>7</td>\n",
              "      <td>3+</td>\n",
              "      <td>pooja room,study room,servant room,others</td>\n",
              "      <td>3.0</td>\n",
              "      <td>East</td>\n",
              "      <td>5 to 10 Year Old</td>\n",
              "      <td>['Huda city centre metro station', 'New Life C...</td>\n",
              "      <td>['8 Wardrobe', '10 Fan', '1 Exhaust Fan', '10 ...</td>\n",
              "      <td>['Private Garden / Terrace', 'Water purifier',...</td>\n",
              "    </tr>\n",
              "    <tr>\n",
              "      <th>3</th>\n",
              "      <td>house</td>\n",
              "      <td>independent</td>\n",
              "      <td>sector 38</td>\n",
              "      <td>3.90</td>\n",
              "      <td>21242.0</td>\n",
              "      <td>1836.0</td>\n",
              "      <td>Plot area 204(170.57 sq.m.)</td>\n",
              "      <td>6</td>\n",
              "      <td>6</td>\n",
              "      <td>3+</td>\n",
              "      <td>pooja room,study room,servant room</td>\n",
              "      <td>3.0</td>\n",
              "      <td>North-East</td>\n",
              "      <td>5 to 10 Year Old</td>\n",
              "      <td>['Rajiv Chowk Mosque', 'Icici bank ATM', 'Stat...</td>\n",
              "      <td>NaN</td>\n",
              "      <td>['Feng Shui / Vaastu Compliant', 'Maintenance ...</td>\n",
              "    </tr>\n",
              "    <tr>\n",
              "      <th>4</th>\n",
              "      <td>house</td>\n",
              "      <td>independent</td>\n",
              "      <td>sector 27</td>\n",
              "      <td>4.25</td>\n",
              "      <td>31481.0</td>\n",
              "      <td>1350.0</td>\n",
              "      <td>Plot area 163(136.29 sq.m.)Built Up area: 161 ...</td>\n",
              "      <td>5</td>\n",
              "      <td>5</td>\n",
              "      <td>3+</td>\n",
              "      <td>pooja room,servant room</td>\n",
              "      <td>3.0</td>\n",
              "      <td>East</td>\n",
              "      <td>1 to 5 Year Old</td>\n",
              "      <td>['Dlf phase 1 metro station', 'Sector 42-43 me...</td>\n",
              "      <td>['10 Wardrobe', '1 Water Purifier', '7 Fan', '...</td>\n",
              "      <td>['Feng Shui / Vaastu Compliant', 'Private Gard...</td>\n",
              "    </tr>\n",
              "  </tbody>\n",
              "</table>\n",
              "</div>\n",
              "    <div class=\"colab-df-buttons\">\n",
              "\n",
              "  <div class=\"colab-df-container\">\n",
              "    <button class=\"colab-df-convert\" onclick=\"convertToInteractive('df-b51aa107-af0c-45f2-b6d5-b3c5790a4db6')\"\n",
              "            title=\"Convert this dataframe to an interactive table.\"\n",
              "            style=\"display:none;\">\n",
              "\n",
              "  <svg xmlns=\"http://www.w3.org/2000/svg\" height=\"24px\" viewBox=\"0 -960 960 960\">\n",
              "    <path d=\"M120-120v-720h720v720H120Zm60-500h600v-160H180v160Zm220 220h160v-160H400v160Zm0 220h160v-160H400v160ZM180-400h160v-160H180v160Zm440 0h160v-160H620v160ZM180-180h160v-160H180v160Zm440 0h160v-160H620v160Z\"/>\n",
              "  </svg>\n",
              "    </button>\n",
              "\n",
              "  <style>\n",
              "    .colab-df-container {\n",
              "      display:flex;\n",
              "      gap: 12px;\n",
              "    }\n",
              "\n",
              "    .colab-df-convert {\n",
              "      background-color: #E8F0FE;\n",
              "      border: none;\n",
              "      border-radius: 50%;\n",
              "      cursor: pointer;\n",
              "      display: none;\n",
              "      fill: #1967D2;\n",
              "      height: 32px;\n",
              "      padding: 0 0 0 0;\n",
              "      width: 32px;\n",
              "    }\n",
              "\n",
              "    .colab-df-convert:hover {\n",
              "      background-color: #E2EBFA;\n",
              "      box-shadow: 0px 1px 2px rgba(60, 64, 67, 0.3), 0px 1px 3px 1px rgba(60, 64, 67, 0.15);\n",
              "      fill: #174EA6;\n",
              "    }\n",
              "\n",
              "    .colab-df-buttons div {\n",
              "      margin-bottom: 4px;\n",
              "    }\n",
              "\n",
              "    [theme=dark] .colab-df-convert {\n",
              "      background-color: #3B4455;\n",
              "      fill: #D2E3FC;\n",
              "    }\n",
              "\n",
              "    [theme=dark] .colab-df-convert:hover {\n",
              "      background-color: #434B5C;\n",
              "      box-shadow: 0px 1px 3px 1px rgba(0, 0, 0, 0.15);\n",
              "      filter: drop-shadow(0px 1px 2px rgba(0, 0, 0, 0.3));\n",
              "      fill: #FFFFFF;\n",
              "    }\n",
              "  </style>\n",
              "\n",
              "    <script>\n",
              "      const buttonEl =\n",
              "        document.querySelector('#df-b51aa107-af0c-45f2-b6d5-b3c5790a4db6 button.colab-df-convert');\n",
              "      buttonEl.style.display =\n",
              "        google.colab.kernel.accessAllowed ? 'block' : 'none';\n",
              "\n",
              "      async function convertToInteractive(key) {\n",
              "        const element = document.querySelector('#df-b51aa107-af0c-45f2-b6d5-b3c5790a4db6');\n",
              "        const dataTable =\n",
              "          await google.colab.kernel.invokeFunction('convertToInteractive',\n",
              "                                                    [key], {});\n",
              "        if (!dataTable) return;\n",
              "\n",
              "        const docLinkHtml = 'Like what you see? Visit the ' +\n",
              "          '<a target=\"_blank\" href=https://colab.research.google.com/notebooks/data_table.ipynb>data table notebook</a>'\n",
              "          + ' to learn more about interactive tables.';\n",
              "        element.innerHTML = '';\n",
              "        dataTable['output_type'] = 'display_data';\n",
              "        await google.colab.output.renderOutput(dataTable, element);\n",
              "        const docLink = document.createElement('div');\n",
              "        docLink.innerHTML = docLinkHtml;\n",
              "        element.appendChild(docLink);\n",
              "      }\n",
              "    </script>\n",
              "  </div>\n",
              "\n",
              "\n",
              "<div id=\"df-0d9b73c5-a923-41a3-b6dc-b39a3e0383f3\">\n",
              "  <button class=\"colab-df-quickchart\" onclick=\"quickchart('df-0d9b73c5-a923-41a3-b6dc-b39a3e0383f3')\"\n",
              "            title=\"Suggest charts\"\n",
              "            style=\"display:none;\">\n",
              "\n",
              "<svg xmlns=\"http://www.w3.org/2000/svg\" height=\"24px\"viewBox=\"0 0 24 24\"\n",
              "     width=\"24px\">\n",
              "    <g>\n",
              "        <path d=\"M19 3H5c-1.1 0-2 .9-2 2v14c0 1.1.9 2 2 2h14c1.1 0 2-.9 2-2V5c0-1.1-.9-2-2-2zM9 17H7v-7h2v7zm4 0h-2V7h2v10zm4 0h-2v-4h2v4z\"/>\n",
              "    </g>\n",
              "</svg>\n",
              "  </button>\n",
              "\n",
              "<style>\n",
              "  .colab-df-quickchart {\n",
              "      --bg-color: #E8F0FE;\n",
              "      --fill-color: #1967D2;\n",
              "      --hover-bg-color: #E2EBFA;\n",
              "      --hover-fill-color: #174EA6;\n",
              "      --disabled-fill-color: #AAA;\n",
              "      --disabled-bg-color: #DDD;\n",
              "  }\n",
              "\n",
              "  [theme=dark] .colab-df-quickchart {\n",
              "      --bg-color: #3B4455;\n",
              "      --fill-color: #D2E3FC;\n",
              "      --hover-bg-color: #434B5C;\n",
              "      --hover-fill-color: #FFFFFF;\n",
              "      --disabled-bg-color: #3B4455;\n",
              "      --disabled-fill-color: #666;\n",
              "  }\n",
              "\n",
              "  .colab-df-quickchart {\n",
              "    background-color: var(--bg-color);\n",
              "    border: none;\n",
              "    border-radius: 50%;\n",
              "    cursor: pointer;\n",
              "    display: none;\n",
              "    fill: var(--fill-color);\n",
              "    height: 32px;\n",
              "    padding: 0;\n",
              "    width: 32px;\n",
              "  }\n",
              "\n",
              "  .colab-df-quickchart:hover {\n",
              "    background-color: var(--hover-bg-color);\n",
              "    box-shadow: 0 1px 2px rgba(60, 64, 67, 0.3), 0 1px 3px 1px rgba(60, 64, 67, 0.15);\n",
              "    fill: var(--button-hover-fill-color);\n",
              "  }\n",
              "\n",
              "  .colab-df-quickchart-complete:disabled,\n",
              "  .colab-df-quickchart-complete:disabled:hover {\n",
              "    background-color: var(--disabled-bg-color);\n",
              "    fill: var(--disabled-fill-color);\n",
              "    box-shadow: none;\n",
              "  }\n",
              "\n",
              "  .colab-df-spinner {\n",
              "    border: 2px solid var(--fill-color);\n",
              "    border-color: transparent;\n",
              "    border-bottom-color: var(--fill-color);\n",
              "    animation:\n",
              "      spin 1s steps(1) infinite;\n",
              "  }\n",
              "\n",
              "  @keyframes spin {\n",
              "    0% {\n",
              "      border-color: transparent;\n",
              "      border-bottom-color: var(--fill-color);\n",
              "      border-left-color: var(--fill-color);\n",
              "    }\n",
              "    20% {\n",
              "      border-color: transparent;\n",
              "      border-left-color: var(--fill-color);\n",
              "      border-top-color: var(--fill-color);\n",
              "    }\n",
              "    30% {\n",
              "      border-color: transparent;\n",
              "      border-left-color: var(--fill-color);\n",
              "      border-top-color: var(--fill-color);\n",
              "      border-right-color: var(--fill-color);\n",
              "    }\n",
              "    40% {\n",
              "      border-color: transparent;\n",
              "      border-right-color: var(--fill-color);\n",
              "      border-top-color: var(--fill-color);\n",
              "    }\n",
              "    60% {\n",
              "      border-color: transparent;\n",
              "      border-right-color: var(--fill-color);\n",
              "    }\n",
              "    80% {\n",
              "      border-color: transparent;\n",
              "      border-right-color: var(--fill-color);\n",
              "      border-bottom-color: var(--fill-color);\n",
              "    }\n",
              "    90% {\n",
              "      border-color: transparent;\n",
              "      border-bottom-color: var(--fill-color);\n",
              "    }\n",
              "  }\n",
              "</style>\n",
              "\n",
              "  <script>\n",
              "    async function quickchart(key) {\n",
              "      const quickchartButtonEl =\n",
              "        document.querySelector('#' + key + ' button');\n",
              "      quickchartButtonEl.disabled = true;  // To prevent multiple clicks.\n",
              "      quickchartButtonEl.classList.add('colab-df-spinner');\n",
              "      try {\n",
              "        const charts = await google.colab.kernel.invokeFunction(\n",
              "            'suggestCharts', [key], {});\n",
              "      } catch (error) {\n",
              "        console.error('Error during call to suggestCharts:', error);\n",
              "      }\n",
              "      quickchartButtonEl.classList.remove('colab-df-spinner');\n",
              "      quickchartButtonEl.classList.add('colab-df-quickchart-complete');\n",
              "    }\n",
              "    (() => {\n",
              "      let quickchartButtonEl =\n",
              "        document.querySelector('#df-0d9b73c5-a923-41a3-b6dc-b39a3e0383f3 button');\n",
              "      quickchartButtonEl.style.display =\n",
              "        google.colab.kernel.accessAllowed ? 'block' : 'none';\n",
              "    })();\n",
              "  </script>\n",
              "</div>\n",
              "    </div>\n",
              "  </div>\n"
            ]
          },
          "metadata": {},
          "execution_count": 8
        }
      ],
      "source": [
        "df.head()"
      ]
    },
    {
      "cell_type": "markdown",
      "id": "056eaf91",
      "metadata": {
        "id": "056eaf91"
      },
      "source": [
        "### property_type"
      ]
    },
    {
      "cell_type": "code",
      "execution_count": 9,
      "id": "88c9fe72",
      "metadata": {
        "colab": {
          "base_uri": "https://localhost:8080/",
          "height": 424
        },
        "id": "88c9fe72",
        "outputId": "df18680a-1d76-48cd-9b2d-2b31ef29b802"
      },
      "outputs": [
        {
          "output_type": "execute_result",
          "data": {
            "text/plain": [
              "<Axes: ylabel='property_type'>"
            ]
          },
          "metadata": {},
          "execution_count": 9
        },
        {
          "output_type": "display_data",
          "data": {
            "text/plain": [
              "<Figure size 640x480 with 1 Axes>"
            ],
            "image/png": "[encoded data removed]"
          },
          "metadata": {}
        }
      ],
      "source": [
        "df['property_type'].value_counts().plot(kind='pie', autopct='%1.1f%%')"
      ]
    },
    {
      "cell_type": "markdown",
      "source": [
        "# Observations\n",
        "* Flats are in majority(75 percent) and there are less number of houses(~25 percent)\n",
        "* No missing values\n"
      ],
      "metadata": {
        "id": "8OoTreBlwCsw"
      },
      "id": "8OoTreBlwCsw"
    },
    {
      "cell_type": "markdown",
      "id": "8cb9e092",
      "metadata": {
        "id": "8cb9e092"
      },
      "source": [
        "### society"
      ]
    },
    {
      "cell_type": "code",
      "execution_count": 10,
      "id": "8a51c475",
      "metadata": {
        "colab": {
          "base_uri": "https://localhost:8080/"
        },
        "id": "8a51c475",
        "outputId": "e5313870-4fc4-46f8-ec4d-86c28ee97125"
      },
      "outputs": [
        {
          "output_type": "execute_result",
          "data": {
            "text/plain": [
              "(676,)"
            ]
          },
          "metadata": {},
          "execution_count": 10
        }
      ],
      "source": [
        "df['society'].value_counts().shape"
      ]
    },
    {
      "cell_type": "code",
      "execution_count": 11,
      "id": "d496d31f",
      "metadata": {
        "id": "d496d31f"
      },
      "outputs": [],
      "source": [
        "society_counts = df['society'].value_counts()"
      ]
    },
    {
      "cell_type": "code",
      "source": [
        "# Summary statistics for society attribute\n",
        "print(\"Number of Unique Societies:\", len(df['society'].unique()))\n",
        "print(\"Most Common Society:\", df['society'].mode().values[0])\n",
        "print(\"Frequency of Most Common Society:\", df['society'].value_counts().max())"
      ],
      "metadata": {
        "colab": {
          "base_uri": "https://localhost:8080/"
        },
        "id": "hzivFEnxqymj",
        "outputId": "34ca6549-9601-45ec-d257-5bb996991e11"
      },
      "id": "hzivFEnxqymj",
      "execution_count": 12,
      "outputs": [
        {
          "output_type": "stream",
          "name": "stdout",
          "text": [
            "Number of Unique Societies: 677\n",
            "Most Common Society: independent\n",
            "Frequency of Most Common Society: 486\n"
          ]
        }
      ]
    },
    {
      "cell_type": "code",
      "source": [
        "ax = df['society'].value_counts().head(10).plot(kind='bar', figsize=(8, 4), color = 'green')\n",
        "for i, v in enumerate(society_counts.head(10)):\n",
        "    ax.text(i, v + 0.1, str(v), ha='center', va='bottom')\n",
        "plt.title('Distribution of Societies')\n",
        "plt.xlabel('Society')\n",
        "plt.ylabel('Count')\n",
        "plt.show()"
      ],
      "metadata": {
        "colab": {
          "base_uri": "https://localhost:8080/",
          "height": 642
        },
        "id": "B5U--XvKSVGj",
        "outputId": "344ac05c-70c4-46df-8772-c5c2b335d113"
      },
      "id": "B5U--XvKSVGj",
      "execution_count": 13,
      "outputs": [
        {
          "output_type": "display_data",
          "data": {
            "text/plain": [
              "<Figure size 800x400 with 1 Axes>"
            ],
            "image/png": "[encoded data removed]"
          },
          "metadata": {}
        }
      ]
    },
    {
      "cell_type": "code",
      "source": [
        "df['society'].value_counts().head(10).plot(kind='pie', autopct='%1.1f%%')"
      ],
      "metadata": {
        "colab": {
          "base_uri": "https://localhost:8080/",
          "height": 424
        },
        "id": "nlscah3Wy6H5",
        "outputId": "ce719c39-af4d-4bc0-b60f-af87aad5da57"
      },
      "id": "nlscah3Wy6H5",
      "execution_count": 14,
      "outputs": [
        {
          "output_type": "execute_result",
          "data": {
            "text/plain": [
              "<Axes: ylabel='society'>"
            ]
          },
          "metadata": {},
          "execution_count": 14
        },
        {
          "output_type": "display_data",
          "data": {
            "text/plain": [
              "<Figure size 640x480 with 1 Axes>"
            ],
            "image/png": "[encoded data removed]"
          },
          "metadata": {}
        }
      ]
    },
    {
      "cell_type": "code",
      "source": [
        "# average price for each society\n",
        "society_mean_price = df.groupby('society')['price'].mean()\n",
        "print(society_mean_price.sort_values(ascending=False))"
      ],
      "metadata": {
        "colab": {
          "base_uri": "https://localhost:8080/"
        },
        "id": "aj8BobFIq5Wu",
        "outputId": "e4698250-4318-492a-9835-af5a4b3d70a7"
      },
      "id": "aj8BobFIq5Wu",
      "execution_count": 15,
      "outputs": [
        {
          "output_type": "stream",
          "name": "stdout",
          "text": [
            "society\n",
            "arjun marg/ sector- 26 phase- 1/ golf course road    31.500000\n",
            "emaar the palm springs                               19.000000\n",
            "adani brahma samsara                                 18.020000\n",
            "dlf alameda                                          17.000000\n",
            "dlf city plots                                       16.072727\n",
            "                                                       ...    \n",
            "city shri ram apartments 1                            0.220000\n",
            "shreeram apartment ii                                 0.210000\n",
            "ashiana apartment                                     0.160000\n",
            "dlf city plot phase 3                                      NaN\n",
            "signature global orchard avenue 2                          NaN\n",
            "Name: price, Length: 676, dtype: float64\n"
          ]
        }
      ]
    },
    {
      "cell_type": "code",
      "execution_count": 16,
      "id": "d68a149f",
      "metadata": {
        "id": "d68a149f"
      },
      "outputs": [],
      "source": [
        "# Frequency distribution for societies\n",
        "frequency_bins = {\n",
        "    \"Very High (>100)\": (society_counts > 100).sum(),\n",
        "    \"High (50-100)\": ((society_counts >= 50) & (society_counts <= 100)).sum(),\n",
        "    \"Average (10-49)\": ((society_counts >= 10) & (society_counts < 50)).sum(),\n",
        "    \"Low (2-9)\": ((society_counts > 1) & (society_counts < 10)).sum(),\n",
        "    \"Very Low (1)\": (society_counts == 1).sum()\n",
        "}"
      ]
    },
    {
      "cell_type": "code",
      "source": [
        "plt.figure(figsize=(8, 4))\n",
        "plt.barh(list(frequency_bins.keys()), list(frequency_bins.values()), color='red')\n",
        "\n",
        "for index, value in enumerate(frequency_bins.values()):\n",
        "    plt.text(value, index, str(value), ha='left', va='center', color='black')\n",
        "plt.title('Frequency Distribution of Societies')\n",
        "plt.xlabel('Number of Societies')\n",
        "plt.ylabel('Frequency Bins')\n",
        "plt.show()"
      ],
      "metadata": {
        "colab": {
          "base_uri": "https://localhost:8080/",
          "height": 410
        },
        "id": "Xy0kJ03ysW4x",
        "outputId": "6990da19-2382-4cb2-f91d-b1db91709412"
      },
      "id": "Xy0kJ03ysW4x",
      "execution_count": 17,
      "outputs": [
        {
          "output_type": "display_data",
          "data": {
            "text/plain": [
              "<Figure size 800x400 with 1 Axes>"
            ],
            "image/png": "[encoded data removed]"
          },
          "metadata": {}
        }
      ]
    },
    {
      "cell_type": "code",
      "execution_count": 18,
      "id": "c4d00037",
      "metadata": {
        "id": "c4d00037",
        "outputId": "51152ca3-4493-4518-b173-89a9a84a8df6",
        "colab": {
          "base_uri": "https://localhost:8080/"
        }
      },
      "outputs": [
        {
          "output_type": "execute_result",
          "data": {
            "text/plain": [
              "1"
            ]
          },
          "metadata": {},
          "execution_count": 18
        }
      ],
      "source": [
        "df['society'].isnull().sum()"
      ]
    },
    {
      "cell_type": "code",
      "execution_count": 19,
      "id": "6509b715",
      "metadata": {
        "id": "6509b715",
        "outputId": "e71df9e3-8cd3-48b8-863f-044d9375a9ef",
        "colab": {
          "base_uri": "https://localhost:8080/",
          "height": 135
        }
      },
      "outputs": [
        {
          "output_type": "execute_result",
          "data": {
            "text/plain": [
              "     property_type society     sector  price  price_per_sqft    area  \\\n",
              "1372          flat     NaN  sector 78    0.6          3692.0  1625.0   \n",
              "\n",
              "                            areaWithType  bedRoom  bathroom balcony  \\\n",
              "1372  Built Up area: 1625 (150.97 sq.m.)        2         2       0   \n",
              "\n",
              "     additionalRoom  floorNum facing       agePossession nearbyLocations  \\\n",
              "1372  not available       NaN    NaN  Under Construction             NaN   \n",
              "\n",
              "     furnishDetails features  \n",
              "1372             []      NaN  "
            ],
            "text/html": [
              "\n",
              "  <div id=\"df-f2c3776e-0a5d-4185-b71f-1da6e80e549c\" class=\"colab-df-container\">\n",
              "    <div>\n",
              "<style scoped>\n",
              "    .dataframe tbody tr th:only-of-type {\n",
              "        vertical-align: middle;\n",
              "    }\n",
              "\n",
              "    .dataframe tbody tr th {\n",
              "        vertical-align: top;\n",
              "    }\n",
              "\n",
              "    .dataframe thead th {\n",
              "        text-align: right;\n",
              "    }\n",
              "</style>\n",
              "<table border=\"1\" class=\"dataframe\">\n",
              "  <thead>\n",
              "    <tr style=\"text-align: right;\">\n",
              "      <th></th>\n",
              "      <th>property_type</th>\n",
              "      <th>society</th>\n",
              "      <th>sector</th>\n",
              "      <th>price</th>\n",
              "      <th>price_per_sqft</th>\n",
              "      <th>area</th>\n",
              "      <th>areaWithType</th>\n",
              "      <th>bedRoom</th>\n",
              "      <th>bathroom</th>\n",
              "      <th>balcony</th>\n",
              "      <th>additionalRoom</th>\n",
              "      <th>floorNum</th>\n",
              "      <th>facing</th>\n",
              "      <th>agePossession</th>\n",
              "      <th>nearbyLocations</th>\n",
              "      <th>furnishDetails</th>\n",
              "      <th>features</th>\n",
              "    </tr>\n",
              "  </thead>\n",
              "  <tbody>\n",
              "    <tr>\n",
              "      <th>1372</th>\n",
              "      <td>flat</td>\n",
              "      <td>NaN</td>\n",
              "      <td>sector 78</td>\n",
              "      <td>0.6</td>\n",
              "      <td>3692.0</td>\n",
              "      <td>1625.0</td>\n",
              "      <td>Built Up area: 1625 (150.97 sq.m.)</td>\n",
              "      <td>2</td>\n",
              "      <td>2</td>\n",
              "      <td>0</td>\n",
              "      <td>not available</td>\n",
              "      <td>NaN</td>\n",
              "      <td>NaN</td>\n",
              "      <td>Under Construction</td>\n",
              "      <td>NaN</td>\n",
              "      <td>[]</td>\n",
              "      <td>NaN</td>\n",
              "    </tr>\n",
              "  </tbody>\n",
              "</table>\n",
              "</div>\n",
              "    <div class=\"colab-df-buttons\">\n",
              "\n",
              "  <div class=\"colab-df-container\">\n",
              "    <button class=\"colab-df-convert\" onclick=\"convertToInteractive('df-f2c3776e-0a5d-4185-b71f-1da6e80e549c')\"\n",
              "            title=\"Convert this dataframe to an interactive table.\"\n",
              "            style=\"display:none;\">\n",
              "\n",
              "  <svg xmlns=\"http://www.w3.org/2000/svg\" height=\"24px\" viewBox=\"0 -960 960 960\">\n",
              "    <path d=\"M120-120v-720h720v720H120Zm60-500h600v-160H180v160Zm220 220h160v-160H400v160Zm0 220h160v-160H400v160ZM180-400h160v-160H180v160Zm440 0h160v-160H620v160ZM180-180h160v-160H180v160Zm440 0h160v-160H620v160Z\"/>\n",
              "  </svg>\n",
              "    </button>\n",
              "\n",
              "  <style>\n",
              "    .colab-df-container {\n",
              "      display:flex;\n",
              "      gap: 12px;\n",
              "    }\n",
              "\n",
              "    .colab-df-convert {\n",
              "      background-color: #E8F0FE;\n",
              "      border: none;\n",
              "      border-radius: 50%;\n",
              "      cursor: pointer;\n",
              "      display: none;\n",
              "      fill: #1967D2;\n",
              "      height: 32px;\n",
              "      padding: 0 0 0 0;\n",
              "      width: 32px;\n",
              "    }\n",
              "\n",
              "    .colab-df-convert:hover {\n",
              "      background-color: #E2EBFA;\n",
              "      box-shadow: 0px 1px 2px rgba(60, 64, 67, 0.3), 0px 1px 3px 1px rgba(60, 64, 67, 0.15);\n",
              "      fill: #174EA6;\n",
              "    }\n",
              "\n",
              "    .colab-df-buttons div {\n",
              "      margin-bottom: 4px;\n",
              "    }\n",
              "\n",
              "    [theme=dark] .colab-df-convert {\n",
              "      background-color: #3B4455;\n",
              "      fill: #D2E3FC;\n",
              "    }\n",
              "\n",
              "    [theme=dark] .colab-df-convert:hover {\n",
              "      background-color: #434B5C;\n",
              "      box-shadow: 0px 1px 3px 1px rgba(0, 0, 0, 0.15);\n",
              "      filter: drop-shadow(0px 1px 2px rgba(0, 0, 0, 0.3));\n",
              "      fill: #FFFFFF;\n",
              "    }\n",
              "  </style>\n",
              "\n",
              "    <script>\n",
              "      const buttonEl =\n",
              "        document.querySelector('#df-f2c3776e-0a5d-4185-b71f-1da6e80e549c button.colab-df-convert');\n",
              "      buttonEl.style.display =\n",
              "        google.colab.kernel.accessAllowed ? 'block' : 'none';\n",
              "\n",
              "      async function convertToInteractive(key) {\n",
              "        const element = document.querySelector('#df-f2c3776e-0a5d-4185-b71f-1da6e80e549c');\n",
              "        const dataTable =\n",
              "          await google.colab.kernel.invokeFunction('convertToInteractive',\n",
              "                                                    [key], {});\n",
              "        if (!dataTable) return;\n",
              "\n",
              "        const docLinkHtml = 'Like what you see? Visit the ' +\n",
              "          '<a target=\"_blank\" href=https://colab.research.google.com/notebooks/data_table.ipynb>data table notebook</a>'\n",
              "          + ' to learn more about interactive tables.';\n",
              "        element.innerHTML = '';\n",
              "        dataTable['output_type'] = 'display_data';\n",
              "        await google.colab.output.renderOutput(dataTable, element);\n",
              "        const docLink = document.createElement('div');\n",
              "        docLink.innerHTML = docLinkHtml;\n",
              "        element.appendChild(docLink);\n",
              "      }\n",
              "    </script>\n",
              "  </div>\n",
              "\n",
              "    </div>\n",
              "  </div>\n"
            ]
          },
          "metadata": {},
          "execution_count": 19
        }
      ],
      "source": [
        "df[df['society'].isnull()]"
      ]
    },
    {
      "cell_type": "markdown",
      "id": "b240feb1",
      "metadata": {
        "id": "b240feb1"
      },
      "source": [
        "#### Observations\n",
        "\n",
        "- There are 677 societies.\n",
        "- Independent houses are more common than any other in the society. Below are the details of the frequency of different societies.\n",
        "    - Very High (>100): Only 1 society has more than 100 listings.\n",
        "    - High (50-100): 2 societies have between 50 to 100 listings.\n",
        "    - Average (10-49): 92 societies fall in this range with 10 to 49 listings each.\n",
        "    - Low (2-9): 273 societies have between 2 to 9 listings.\n",
        "    - Very Low (1): A significant number, 308 societies, have only 1 listing.\n",
        "- 1 missing value"
      ]
    },
    {
      "cell_type": "markdown",
      "id": "2cf823d5",
      "metadata": {
        "id": "2cf823d5"
      },
      "source": [
        "### sector"
      ]
    },
    {
      "cell_type": "code",
      "execution_count": 20,
      "id": "9490f061",
      "metadata": {
        "id": "9490f061",
        "outputId": "62eeeaed-a163-4fe8-e646-2b8d28f173a9",
        "colab": {
          "base_uri": "https://localhost:8080/"
        }
      },
      "outputs": [
        {
          "output_type": "execute_result",
          "data": {
            "text/plain": [
              "(115,)"
            ]
          },
          "metadata": {},
          "execution_count": 20
        }
      ],
      "source": [
        "# unique sectors\n",
        "df['sector'].value_counts().shape"
      ]
    },
    {
      "cell_type": "code",
      "execution_count": 21,
      "id": "f0c46677",
      "metadata": {
        "id": "f0c46677",
        "outputId": "93a506e5-824e-4474-a08e-fa3d93a4cecb",
        "colab": {
          "base_uri": "https://localhost:8080/",
          "height": 428
        }
      },
      "outputs": [
        {
          "output_type": "display_data",
          "data": {
            "text/plain": [
              "<Figure size 640x480 with 1 Axes>"
            ],
            "image/png": "[encoded data removed]"
          },
          "metadata": {}
        }
      ],
      "source": [
        "# top 10 sectors\n",
        "top_10_sectors = df['sector'].value_counts().head(10)\n",
        "plt.pie(top_10_sectors, labels=top_10_sectors.index, autopct='%1.1f%%', startangle=90, colors=plt.cm.Paired(range(len(top_10_sectors))))\n",
        "plt.title('Top 10 Sectors Distribution')\n",
        "plt.show()"
      ]
    },
    {
      "cell_type": "code",
      "source": [
        "# Summary statistics for society attribute\n",
        "print(\"Number of Unique Sectors:\", len(df['sector'].unique()))\n",
        "print(\"Most Common Sector:\", df['sector'].mode().values[0])\n",
        "print(\"Houses in Most Common Sector:\", df['sector'].value_counts().max())"
      ],
      "metadata": {
        "colab": {
          "base_uri": "https://localhost:8080/"
        },
        "id": "OiDxxGT80rT_",
        "outputId": "d800bda3-b750-44c8-dd7d-eaa2a903b34f"
      },
      "id": "OiDxxGT80rT_",
      "execution_count": 22,
      "outputs": [
        {
          "output_type": "stream",
          "name": "stdout",
          "text": [
            "Number of Unique Sectors: 115\n",
            "Most Common Sector: sohna road\n",
            "Houses in Most Common Sector: 153\n"
          ]
        }
      ]
    },
    {
      "cell_type": "code",
      "execution_count": 23,
      "id": "227b69cc",
      "metadata": {
        "id": "227b69cc"
      },
      "outputs": [],
      "source": [
        "# Frequency distribution for sectors\n",
        "sector_counts = df['sector'].value_counts()\n",
        "\n",
        "sector_frequency_bins = {\n",
        "    \"Very High (>100)\": (sector_counts > 100).sum(),\n",
        "    \"High (50-100)\": ((sector_counts >= 50) & (sector_counts <= 100)).sum(),\n",
        "    \"Average (10-49)\": ((sector_counts >= 10) & (sector_counts < 50)).sum(),\n",
        "    \"Low (2-9)\": ((sector_counts > 1) & (sector_counts < 10)).sum(),\n",
        "    \"Very Low (1)\": (sector_counts == 1).sum()\n",
        "}"
      ]
    },
    {
      "cell_type": "code",
      "source": [
        "plt.figure(figsize=(8, 4))\n",
        "plt.barh(list(sector_frequency_bins.keys()), list(sector_frequency_bins.values()), color='red')\n",
        "\n",
        "for index, value in enumerate(sector_frequency_bins.values()):\n",
        "    plt.text(value, index, str(value), ha='left', va='center', color='black')\n",
        "plt.title('Frequency Distribution of Sectors')\n",
        "plt.xlabel('Number of Sectors')\n",
        "plt.ylabel('Sector Frequency Bins')\n",
        "plt.show()"
      ],
      "metadata": {
        "colab": {
          "base_uri": "https://localhost:8080/",
          "height": 410
        },
        "id": "oiRWwQXYwjso",
        "outputId": "bb30f07b-8be1-4d6c-9612-06b27aaffe2a"
      },
      "id": "oiRWwQXYwjso",
      "execution_count": 24,
      "outputs": [
        {
          "output_type": "display_data",
          "data": {
            "text/plain": [
              "<Figure size 800x400 with 1 Axes>"
            ],
            "image/png": "[encoded data removed]"
          },
          "metadata": {}
        }
      ]
    },
    {
      "cell_type": "markdown",
      "id": "9fc2b96e",
      "metadata": {
        "id": "9fc2b96e"
      },
      "source": [
        "#### Observations\n",
        "\n",
        "- There are a total of 115 unique sectors in the dataset.\n",
        "- Frequency distribution of sectors:\n",
        "    - Very High (>100): 3 sectors have more than 100 listings.\n",
        "    - High (50-100): 25 sectors have between 50 to 100 listings.\n",
        "    - Average (10-49): A majority, 63 sectors, fall in this range with 10 to 49 listings each.\n",
        "    - Low (2-9): 23 sectors have between 2 to 9 listings.\n",
        "    - Very Low (1): Interestingly, there are no sectors with only 1 listing."
      ]
    },
    {
      "cell_type": "markdown",
      "id": "ebc6c66a",
      "metadata": {
        "id": "ebc6c66a"
      },
      "source": [
        "### Price"
      ]
    },
    {
      "cell_type": "code",
      "execution_count": 25,
      "id": "ed008885",
      "metadata": {
        "id": "ed008885",
        "outputId": "073f82ad-4cd1-4f5b-87bf-a675bd56ca2a",
        "colab": {
          "base_uri": "https://localhost:8080/"
        }
      },
      "outputs": [
        {
          "output_type": "execute_result",
          "data": {
            "text/plain": [
              "17"
            ]
          },
          "metadata": {},
          "execution_count": 25
        }
      ],
      "source": [
        "df['price'].isnull().sum()"
      ]
    },
    {
      "cell_type": "code",
      "execution_count": 26,
      "id": "21041d71",
      "metadata": {
        "id": "21041d71",
        "outputId": "f33bf0f8-c282-44da-b899-470fd2c7f6e4",
        "colab": {
          "base_uri": "https://localhost:8080/"
        }
      },
      "outputs": [
        {
          "output_type": "execute_result",
          "data": {
            "text/plain": [
              "count    3664.000000\n",
              "mean        2.533248\n",
              "std         2.979058\n",
              "min         0.070000\n",
              "25%         0.950000\n",
              "50%         1.525000\n",
              "75%         2.750000\n",
              "max        31.500000\n",
              "Name: price, dtype: float64"
            ]
          },
          "metadata": {},
          "execution_count": 26
        }
      ],
      "source": [
        "df['price'].describe()"
      ]
    },
    {
      "cell_type": "code",
      "execution_count": 27,
      "id": "dcd16341",
      "metadata": {
        "id": "dcd16341",
        "outputId": "07877ec9-158c-49e1-ed76-bbe115a6bdae",
        "colab": {
          "base_uri": "https://localhost:8080/",
          "height": 472
        }
      },
      "outputs": [
        {
          "output_type": "display_data",
          "data": {
            "text/plain": [
              "<Figure size 640x480 with 1 Axes>"
            ],
            "image/png": "[encoded data removed]"
          },
          "metadata": {}
        }
      ],
      "source": [
        "sns.kdeplot(df['price'], fill=True)\n",
        "plt.title('Kernel Density Estimate (KDE) Plot for Price')\n",
        "plt.xlabel('Price')\n",
        "plt.ylabel('Density')\n",
        "plt.show()"
      ]
    },
    {
      "cell_type": "markdown",
      "id": "5f910d8f",
      "metadata": {
        "id": "5f910d8f"
      },
      "source": [
        "- Descriptive Statistics:\n",
        "\n",
        "    - Count: There are 3,664 non-missing price entries.\n",
        "    - Mean Price: The average price is approximately 2.53 crores.\n",
        "    - Median Price: The median (or 50th percentile) price is 1.52 crores.\n",
        "    - Standard Deviation: The prices have a standard deviation of 2.98, indicating variability in the prices.\n",
        "    - Range: Prices range from a minimum of 0.07 crores to a maximum of 31.5 crores.\n",
        "    - IQR: The interquartile range (difference between 75th and 25th percentile) is from 0.95 crores to 2.75 crores.\n",
        "\n",
        "- Missing Values: There are 17 missing values in the price column."
      ]
    },
    {
      "cell_type": "code",
      "execution_count": 28,
      "id": "a769c5f8",
      "metadata": {
        "id": "a769c5f8",
        "outputId": "0cf97672-a017-4234-8053-31034def4d3b",
        "colab": {
          "base_uri": "https://localhost:8080/"
        }
      },
      "outputs": [
        {
          "output_type": "stream",
          "name": "stdout",
          "text": [
            "3.2811592590294394 14.95329398708748\n"
          ]
        }
      ],
      "source": [
        "# Skewness and Kurtosis\n",
        "skewness = df['price'].skew()\n",
        "kurtosis = df['price'].kurt()\n",
        "\n",
        "print(skewness,kurtosis)"
      ]
    },
    {
      "cell_type": "markdown",
      "id": "77c35665",
      "metadata": {
        "id": "77c35665"
      },
      "source": [
        "**Skewness**: The price distribution has a skewness of approximately 3.28, indicating a positive skew. This means that the distribution tail is skewed to the right, which aligns with our observation from the histogram where most properties have prices on the lower end with a few high-priced properties.\n",
        "\n",
        "**Kurtosis**: The kurtosis value is approximately 14.95. A kurtosis value greater than 3 indicates a distribution with heavier tails and more outliers compared to a normal distribution."
      ]
    },
    {
      "cell_type": "code",
      "execution_count": 29,
      "id": "dd7cca36",
      "metadata": {
        "id": "dd7cca36"
      },
      "outputs": [],
      "source": [
        "# Quantile Analysis\n",
        "quantiles = df['price'].quantile([0.01, 0.05, 0.95, 0.99])"
      ]
    },
    {
      "cell_type": "code",
      "execution_count": 30,
      "id": "c9b659c2",
      "metadata": {
        "id": "c9b659c2"
      },
      "outputs": [],
      "source": [
        "# Identify potential outliers using IQR method\n",
        "Q1 = df['price'].describe()['25%']\n",
        "Q3 = df['price'].describe()['75%']\n",
        "IQR = Q3 - Q1"
      ]
    },
    {
      "cell_type": "code",
      "execution_count": 31,
      "id": "0e06931b",
      "metadata": {
        "id": "0e06931b",
        "outputId": "6b513c85-978f-4860-d872-9b9e4617d89e",
        "colab": {
          "base_uri": "https://localhost:8080/"
        }
      },
      "outputs": [
        {
          "output_type": "stream",
          "name": "stdout",
          "text": [
            "-1.7500000000000002 5.45\n"
          ]
        }
      ],
      "source": [
        "lower_bound = Q1 - 1.5 * IQR\n",
        "upper_bound = Q3 + 1.5 * IQR\n",
        "\n",
        "print(lower_bound, upper_bound)"
      ]
    },
    {
      "cell_type": "code",
      "execution_count": 32,
      "id": "1b6b09fa",
      "metadata": {
        "id": "1b6b09fa",
        "outputId": "1143f6aa-c4c4-4b62-e2c8-386db4f12987",
        "colab": {
          "base_uri": "https://localhost:8080/"
        }
      },
      "outputs": [
        {
          "output_type": "execute_result",
          "data": {
            "text/plain": [
              "(425, 17)"
            ]
          },
          "metadata": {},
          "execution_count": 32
        }
      ],
      "source": [
        "outliers = df[(df['price'] < lower_bound) | (df['price'] > upper_bound)]\n",
        "outliers.shape"
      ]
    },
    {
      "cell_type": "code",
      "execution_count": 33,
      "id": "81eb93a2",
      "metadata": {
        "id": "81eb93a2",
        "outputId": "b88e0e3a-a3d4-4d0f-f7e8-97d5c39a34b8",
        "colab": {
          "base_uri": "https://localhost:8080/"
        }
      },
      "outputs": [
        {
          "output_type": "execute_result",
          "data": {
            "text/plain": [
              "count    425.000000\n",
              "mean       9.235624\n",
              "std        4.065259\n",
              "min        5.460000\n",
              "25%        6.460000\n",
              "50%        8.000000\n",
              "75%       10.750000\n",
              "max       31.500000\n",
              "Name: price, dtype: float64"
            ]
          },
          "metadata": {},
          "execution_count": 33
        }
      ],
      "source": [
        "outliers['price'].describe()"
      ]
    },
    {
      "cell_type": "markdown",
      "id": "33ae240e",
      "metadata": {
        "id": "33ae240e"
      },
      "source": [
        "Outliers Analysis (using IQR method):\n",
        "\n",
        "- Based on the IQR method, there are 432 properties considered as outliers.\n",
        "- These outliers have an average price of approximately 9.19 crores.\n",
        "- The range for these outliers is from 5.35 crores to 31.5 crores."
      ]
    },
    {
      "cell_type": "code",
      "execution_count": 34,
      "id": "da192879",
      "metadata": {
        "id": "da192879",
        "outputId": "98cade4d-f883-4eb5-8a7d-5ad08bb1aa10",
        "colab": {
          "base_uri": "https://localhost:8080/",
          "height": 424
        }
      },
      "outputs": [
        {
          "output_type": "execute_result",
          "data": {
            "text/plain": [
              "<Axes: ylabel='price'>"
            ]
          },
          "metadata": {},
          "execution_count": 34
        },
        {
          "output_type": "display_data",
          "data": {
            "text/plain": [
              "<Figure size 640x480 with 1 Axes>"
            ],
            "image/png": "[encoded data removed]"
          },
          "metadata": {}
        }
      ],
      "source": [
        "# price binning\n",
        "bins = [0, 1, 2, 3, 5, 10, 20, 50]\n",
        "bin_labels = [\"0-1\", \"1-2\", \"2-3\", \"3-5\", \"5-10\", \"10-20\", \"20-50\"]\n",
        "pd.cut(df['price'], bins=bins, labels=bin_labels, right=False).value_counts().sort_index().plot(kind='pie')"
      ]
    },
    {
      "cell_type": "markdown",
      "id": "b6cbcac3",
      "metadata": {
        "id": "b6cbcac3"
      },
      "source": [
        "- The majority of properties are priced in the \"0-1 crores\" and \"1-2 crores\" ranges.\n",
        "- There's a significant drop in the number of properties priced above \"10 crores.\""
      ]
    },
    {
      "cell_type": "code",
      "source": [
        "plt.figure(figsize=(8, 4))\n",
        "sns.violinplot(x='property_type', y='price', data=df)\n",
        "plt.title('Violin Plot for Price by Property Type')\n",
        "plt.xlabel('Property Type')\n",
        "plt.ylabel('Price')\n",
        "plt.xticks(rotation=45)\n",
        "plt.show()\n"
      ],
      "metadata": {
        "colab": {
          "base_uri": "https://localhost:8080/",
          "height": 435
        },
        "id": "1aVWw8_07HFh",
        "outputId": "8640b5e6-5c99-4680-e4d3-a75d22513732"
      },
      "id": "1aVWw8_07HFh",
      "execution_count": 35,
      "outputs": [
        {
          "output_type": "display_data",
          "data": {
            "text/plain": [
              "<Figure size 800x400 with 1 Axes>"
            ],
            "image/png": "[encoded data removed]"
          },
          "metadata": {}
        }
      ]
    },
    {
      "cell_type": "markdown",
      "source": [
        "**Violin Shape**:\n",
        "The main body of the violin represents the kernel density estimate of the data distribution. It provides information about the probability density at different values of the variable. A wider section indicates a higher probability density.\n",
        "\n",
        "**White Dot or Line**:\n",
        "The white dot or line inside the violin represents the median of the data. It gives you an idea of the central tendency of the distribution.\n",
        "\n",
        "**Box Plots**:\n",
        "Typically, a box plot is embedded within the violin plot. The box part represents the interquartile range (IQR) of the data. The horizontal line inside the box is the median. The whiskers extend to the minimum and maximum values within 1.5 times the IQR.\n",
        "\n",
        "**Width Variation**:\n",
        "The width of the violin plot can vary at different points along the x-axis. Wider sections indicate higher variability in the data at those points."
      ],
      "metadata": {
        "id": "3dubx6XE7vLn"
      },
      "id": "3dubx6XE7vLn"
    },
    {
      "cell_type": "code",
      "source": [
        "top_10_sectors = df['sector'].value_counts().nlargest(10).index\n",
        "df_top_10_sectors = df[df['sector'].isin(top_10_sectors)]\n",
        "\n",
        "plt.figure(figsize=(8, 4))\n",
        "sns.boxplot(x='sector', y='price', data=df_top_10_sectors)\n",
        "plt.title('Price Distribution Across Top 10 Sectors')\n",
        "plt.xlabel('Sector')\n",
        "plt.ylabel('Price')\n",
        "plt.xticks(rotation=45)\n",
        "plt.show()"
      ],
      "metadata": {
        "colab": {
          "base_uri": "https://localhost:8080/",
          "height": 461
        },
        "id": "PpgG2Z406X9n",
        "outputId": "0b95bd19-96c7-4693-9663-dad7349e0a70"
      },
      "id": "PpgG2Z406X9n",
      "execution_count": 36,
      "outputs": [
        {
          "output_type": "display_data",
          "data": {
            "text/plain": [
              "<Figure size 800x400 with 1 Axes>"
            ],
            "image/png": "[encoded data removed]"
          },
          "metadata": {}
        }
      ]
    },
    {
      "cell_type": "markdown",
      "source": [
        "**Box**:\n",
        "The box in the plot represents the interquartile range (IQR), which is the range between the first quartile (Q1) and the third quartile (Q3). The height of the box indicates the variability of the middle 50% of the data.\n",
        "\n",
        "**Line Inside the Box**:\n",
        "The line inside the box represents the median of the data. It is the value that separates the lower 50% of the data from the upper 50%.\n",
        "\n",
        "**Whiskers**:\n",
        "The whiskers are lines extending from the box. They indicate the range of the data outside the interquartile range. By default, they typically extend to 1.5 times the interquartile range from the first and third quartiles. Any points beyond the whiskers are considered outliers and plotted individually.\n",
        "\n",
        "**Outliers**:\n",
        "Individual points beyond the whiskers are considered outliers. They are plotted as individual points."
      ],
      "metadata": {
        "id": "deDoh-gl8HAd"
      },
      "id": "deDoh-gl8HAd"
    },
    {
      "cell_type": "code",
      "execution_count": 37,
      "id": "48b52bfb",
      "metadata": {
        "id": "48b52bfb",
        "outputId": "5ba093d6-8ff5-400f-c188-078bd03cba4d",
        "colab": {
          "base_uri": "https://localhost:8080/",
          "height": 407
        }
      },
      "outputs": [
        {
          "output_type": "display_data",
          "data": {
            "text/plain": [
              "<Figure size 800x400 with 2 Axes>"
            ],
            "image/png": "[encoded data removed]"
          },
          "metadata": {}
        }
      ],
      "source": [
        "plt.figure(figsize=(8, 4))\n",
        "\n",
        "# Distribution plot without log transformation\n",
        "plt.subplot(1, 2, 1)\n",
        "sns.histplot(df['price'], kde=True, bins=50, color='skyblue')\n",
        "plt.title('Distribution of Prices (Original)')\n",
        "plt.xlabel('Price (in Crores)')\n",
        "plt.ylabel('Frequency')\n",
        "\n",
        "# Square root transformation\n",
        "plt.subplot(1, 2, 2)\n",
        "sns.histplot(np.sqrt(df['price']), kde=True, bins=50, color='lightgreen')\n",
        "plt.title('Distribution of Prices (Square Root Transformed)')\n",
        "plt.xlabel('Square Root of Price')\n",
        "plt.ylabel('Frequency')\n",
        "\n",
        "plt.tight_layout()\n",
        "plt.show()\n"
      ]
    },
    {
      "cell_type": "markdown",
      "id": "79b6e90d",
      "metadata": {
        "id": "79b6e90d"
      },
      "source": [
        "### price_per_sqft"
      ]
    },
    {
      "cell_type": "code",
      "execution_count": 38,
      "id": "61815722",
      "metadata": {
        "id": "61815722",
        "outputId": "b3ae91c4-db37-4434-8129-0fbf2c258013",
        "colab": {
          "base_uri": "https://localhost:8080/"
        }
      },
      "outputs": [
        {
          "output_type": "execute_result",
          "data": {
            "text/plain": [
              "17"
            ]
          },
          "metadata": {},
          "execution_count": 38
        }
      ],
      "source": [
        "df['price_per_sqft'].isnull().sum()"
      ]
    },
    {
      "cell_type": "code",
      "execution_count": 39,
      "id": "4a673f44",
      "metadata": {
        "id": "4a673f44",
        "outputId": "079637d7-b1d4-4334-d417-4b95e2d4f497",
        "colab": {
          "base_uri": "https://localhost:8080/"
        }
      },
      "outputs": [
        {
          "output_type": "execute_result",
          "data": {
            "text/plain": [
              "count      3664.000000\n",
              "mean      13895.281114\n",
              "std       23197.757961\n",
              "min           4.000000\n",
              "25%        6818.000000\n",
              "50%        9022.000000\n",
              "75%       13888.250000\n",
              "max      600000.000000\n",
              "Name: price_per_sqft, dtype: float64"
            ]
          },
          "metadata": {},
          "execution_count": 39
        }
      ],
      "source": [
        "df['price_per_sqft'].describe()"
      ]
    },
    {
      "cell_type": "code",
      "execution_count": 40,
      "id": "11494fb9",
      "metadata": {
        "id": "11494fb9",
        "outputId": "821e176f-e122-4caf-83ea-d96cc84f6776",
        "colab": {
          "base_uri": "https://localhost:8080/",
          "height": 410
        }
      },
      "outputs": [
        {
          "output_type": "display_data",
          "data": {
            "text/plain": [
              "<Figure size 800x400 with 1 Axes>"
            ],
            "image/png": "[encoded data removed]"
          },
          "metadata": {}
        }
      ],
      "source": [
        "plt.figure(figsize=(8, 4))\n",
        "sns.kdeplot(df['price_per_sqft'], fill=True)\n",
        "plt.title('Kernel Density Estimate (KDE) Plot for Price per square feet')\n",
        "plt.xlabel('Price')\n",
        "plt.ylabel('Density')\n",
        "plt.show()"
      ]
    },
    {
      "cell_type": "markdown",
      "id": "097b73bf",
      "metadata": {
        "id": "097b73bf"
      },
      "source": [
        "Most properties have a price_per_sqft ranging between approximately ₹0 and ₹40,000. There is a significant concentration in the lower range, with a few properties having exceptionally high price_per_sqft."
      ]
    },
    {
      "cell_type": "code",
      "execution_count": 41,
      "id": "3bcc4766",
      "metadata": {
        "id": "3bcc4766",
        "outputId": "425378bb-6cb1-4948-8da8-4ae8e684c569",
        "colab": {
          "base_uri": "https://localhost:8080/",
          "height": 410
        }
      },
      "outputs": [
        {
          "output_type": "display_data",
          "data": {
            "text/plain": [
              "<Figure size 800x400 with 1 Axes>"
            ],
            "image/png": "[encoded data removed]"
          },
          "metadata": {}
        }
      ],
      "source": [
        "plt.figure(figsize=(8, 4))\n",
        "sns.boxplot(x=df['price_per_sqft'], color='lightgreen')\n",
        "plt.title('Box Plot for Price per Sqft')\n",
        "plt.xlabel('Price per Sqft')\n",
        "plt.show()"
      ]
    },
    {
      "cell_type": "markdown",
      "id": "3b9027fd",
      "metadata": {
        "id": "3b9027fd"
      },
      "source": [
        "The box plot clearly shows several outliers, especially on the higher side. The interquartile range (IQR) is relatively compact, but there are many data points beyond the \"whiskers\" of the box plot, indicating potential outliers"
      ]
    },
    {
      "cell_type": "markdown",
      "id": "d1fa1ba5",
      "metadata": {
        "id": "d1fa1ba5"
      },
      "source": [
        "#### Observations\n",
        "\n",
        "- Potential Outliers\n",
        "- Right Skewed\n",
        "- 17 missing values"
      ]
    },
    {
      "cell_type": "markdown",
      "id": "d8455a2d",
      "metadata": {
        "id": "d8455a2d"
      },
      "source": [
        "### bedRoom"
      ]
    },
    {
      "cell_type": "code",
      "execution_count": 42,
      "id": "d8ad1fec",
      "metadata": {
        "id": "d8ad1fec",
        "outputId": "d3d8d5a3-eca7-4027-c86f-5057fa49ba90",
        "colab": {
          "base_uri": "https://localhost:8080/"
        }
      },
      "outputs": [
        {
          "output_type": "execute_result",
          "data": {
            "text/plain": [
              "0"
            ]
          },
          "metadata": {},
          "execution_count": 42
        }
      ],
      "source": [
        "df['bedRoom'].isnull().sum()"
      ]
    },
    {
      "cell_type": "code",
      "execution_count": 43,
      "id": "9350d57b",
      "metadata": {
        "id": "9350d57b",
        "outputId": "403d61f1-7dd3-41dd-bdf3-6a0d80c4352d",
        "colab": {
          "base_uri": "https://localhost:8080/",
          "height": 410
        }
      },
      "outputs": [
        {
          "output_type": "display_data",
          "data": {
            "text/plain": [
              "<Figure size 800x400 with 1 Axes>"
            ],
            "image/png": "[encoded data removed]"
          },
          "metadata": {}
        }
      ],
      "source": [
        "plt.figure(figsize=(8, 4))\n",
        "sns.countplot(x='bedRoom', data=df, palette='viridis')\n",
        "plt.title('Count of Bedrooms')\n",
        "plt.xlabel('Number of Bedrooms')\n",
        "plt.ylabel('Count')\n",
        "plt.show()"
      ]
    },
    {
      "cell_type": "code",
      "execution_count": 44,
      "id": "79d4ab41",
      "metadata": {
        "id": "79d4ab41",
        "outputId": "6674f934-57ad-4782-b417-cf41e0e8a8dd",
        "colab": {
          "base_uri": "https://localhost:8080/",
          "height": 424
        }
      },
      "outputs": [
        {
          "output_type": "execute_result",
          "data": {
            "text/plain": [
              "<Axes: ylabel='bedRoom'>"
            ]
          },
          "metadata": {},
          "execution_count": 44
        },
        {
          "output_type": "display_data",
          "data": {
            "text/plain": [
              "<Figure size 640x480 with 1 Axes>"
            ],
            "image/png": "[encoded data removed]"
          },
          "metadata": {}
        }
      ],
      "source": [
        "df['bedRoom'].value_counts(normalize=True).head().plot(kind='pie',autopct='%1.1f%%')"
      ]
    },
    {
      "cell_type": "markdown",
      "id": "37feac0c",
      "metadata": {
        "id": "37feac0c"
      },
      "source": [
        "### bathroom"
      ]
    },
    {
      "cell_type": "code",
      "execution_count": 45,
      "id": "fb928658",
      "metadata": {
        "id": "fb928658",
        "outputId": "7e322820-f63e-48c9-939a-1641f77312c4",
        "colab": {
          "base_uri": "https://localhost:8080/"
        }
      },
      "outputs": [
        {
          "output_type": "execute_result",
          "data": {
            "text/plain": [
              "0"
            ]
          },
          "metadata": {},
          "execution_count": 45
        }
      ],
      "source": [
        "df['bathroom'].isnull().sum()"
      ]
    },
    {
      "cell_type": "code",
      "execution_count": 46,
      "id": "8bef3d48",
      "metadata": {
        "id": "8bef3d48",
        "outputId": "8750b403-aa7e-4048-9069-1b8d97f117bd",
        "colab": {
          "base_uri": "https://localhost:8080/",
          "height": 410
        }
      },
      "outputs": [
        {
          "output_type": "display_data",
          "data": {
            "text/plain": [
              "<Figure size 800x400 with 1 Axes>"
            ],
            "image/png": "[encoded data removed]"
          },
          "metadata": {}
        }
      ],
      "source": [
        "plt.figure(figsize=(8, 4))\n",
        "sns.countplot(x='bathroom', data=df, palette='viridis')\n",
        "plt.title('Count of bathrooms')\n",
        "plt.xlabel('Number of bathrooms')\n",
        "plt.ylabel('Count')\n",
        "plt.show()"
      ]
    },
    {
      "cell_type": "code",
      "execution_count": 47,
      "id": "b8a28001",
      "metadata": {
        "id": "b8a28001",
        "outputId": "7cd71452-e9cd-484a-fde4-c59d7012db89",
        "colab": {
          "base_uri": "https://localhost:8080/",
          "height": 424
        }
      },
      "outputs": [
        {
          "output_type": "execute_result",
          "data": {
            "text/plain": [
              "<Axes: ylabel='bathroom'>"
            ]
          },
          "metadata": {},
          "execution_count": 47
        },
        {
          "output_type": "display_data",
          "data": {
            "text/plain": [
              "<Figure size 640x480 with 1 Axes>"
            ],
            "image/png": "[encoded data removed]"
          },
          "metadata": {}
        }
      ],
      "source": [
        "df['bathroom'].value_counts(normalize=True).head().plot(kind='pie',autopct='%1.1f%%')"
      ]
    },
    {
      "cell_type": "markdown",
      "id": "67be5832",
      "metadata": {
        "id": "67be5832"
      },
      "source": [
        "### balcony"
      ]
    },
    {
      "cell_type": "code",
      "execution_count": 48,
      "id": "99081980",
      "metadata": {
        "id": "99081980",
        "outputId": "621a72af-8ca6-47ad-a877-756d4a2f2436",
        "colab": {
          "base_uri": "https://localhost:8080/"
        }
      },
      "outputs": [
        {
          "output_type": "execute_result",
          "data": {
            "text/plain": [
              "0"
            ]
          },
          "metadata": {},
          "execution_count": 48
        }
      ],
      "source": [
        "df['balcony'].isnull().sum()"
      ]
    },
    {
      "cell_type": "code",
      "execution_count": 49,
      "id": "a694fbee",
      "metadata": {
        "id": "a694fbee",
        "outputId": "c5d0818c-c70e-4f34-f9f9-88d96c417c66",
        "colab": {
          "base_uri": "https://localhost:8080/",
          "height": 424
        }
      },
      "outputs": [
        {
          "output_type": "execute_result",
          "data": {
            "text/plain": [
              "<Axes: ylabel='balcony'>"
            ]
          },
          "metadata": {},
          "execution_count": 49
        },
        {
          "output_type": "display_data",
          "data": {
            "text/plain": [
              "<Figure size 640x480 with 1 Axes>"
            ],
            "image/png": "[encoded data removed]"
          },
          "metadata": {}
        }
      ],
      "source": [
        "df['balcony'].value_counts().plot(kind='pie',autopct='%1.1f%%')"
      ]
    },
    {
      "cell_type": "markdown",
      "source": [
        "### Floor number"
      ],
      "metadata": {
        "id": "vv_5jn3yLrM-"
      },
      "id": "vv_5jn3yLrM-"
    },
    {
      "cell_type": "code",
      "execution_count": 51,
      "id": "0750294d",
      "metadata": {
        "id": "0750294d",
        "outputId": "1c15d5e1-55cd-403c-a971-a2d42b993fe1",
        "colab": {
          "base_uri": "https://localhost:8080/",
          "height": 293
        }
      },
      "outputs": [
        {
          "output_type": "execute_result",
          "data": {
            "text/plain": [
              "                              additionalRoom  floorNum      facing  \\\n",
              "0                    servant room,study room       4.0        East   \n",
              "1                                 study room       7.0  North-East   \n",
              "2  pooja room,study room,servant room,others       3.0        East   \n",
              "3         pooja room,study room,servant room       3.0  North-East   \n",
              "4                    pooja room,servant room       3.0        East   \n",
              "\n",
              "      agePossession                                    nearbyLocations  \\\n",
              "0   1 to 5 Year Old  ['Galleria 108 Mall', 'Dwarka Expressway', 'Ce...   \n",
              "1   0 to 1 Year Old  ['Sector 55-56 Metro Station', 'Omaxe Gurgaon ...   \n",
              "2  5 to 10 Year Old  ['Huda city centre metro station', 'New Life C...   \n",
              "3  5 to 10 Year Old  ['Rajiv Chowk Mosque', 'Icici bank ATM', 'Stat...   \n",
              "4   1 to 5 Year Old  ['Dlf phase 1 metro station', 'Sector 42-43 me...   \n",
              "\n",
              "                                      furnishDetails  \\\n",
              "0  ['3 Wardrobe', '6 Fan', '1 Exhaust Fan', '1 Ge...   \n",
              "1  ['1 Water Purifier', '2 Fan', '1 Fridge', '1 E...   \n",
              "2  ['8 Wardrobe', '10 Fan', '1 Exhaust Fan', '10 ...   \n",
              "3                                                NaN   \n",
              "4  ['10 Wardrobe', '1 Water Purifier', '7 Fan', '...   \n",
              "\n",
              "                                            features  \n",
              "0  ['Security / Fire Alarm', 'Power Back-up', 'Fe...  \n",
              "1  ['Centrally Air Conditioned', 'Water purifier'...  \n",
              "2  ['Private Garden / Terrace', 'Water purifier',...  \n",
              "3  ['Feng Shui / Vaastu Compliant', 'Maintenance ...  \n",
              "4  ['Feng Shui / Vaastu Compliant', 'Private Gard...  "
            ],
            "text/html": [
              "\n",
              "  <div id=\"df-b39f240e-bf02-43f5-8b5c-650556b1f5f8\" class=\"colab-df-container\">\n",
              "    <div>\n",
              "<style scoped>\n",
              "    .dataframe tbody tr th:only-of-type {\n",
              "        vertical-align: middle;\n",
              "    }\n",
              "\n",
              "    .dataframe tbody tr th {\n",
              "        vertical-align: top;\n",
              "    }\n",
              "\n",
              "    .dataframe thead th {\n",
              "        text-align: right;\n",
              "    }\n",
              "</style>\n",
              "<table border=\"1\" class=\"dataframe\">\n",
              "  <thead>\n",
              "    <tr style=\"text-align: right;\">\n",
              "      <th></th>\n",
              "      <th>additionalRoom</th>\n",
              "      <th>floorNum</th>\n",
              "      <th>facing</th>\n",
              "      <th>agePossession</th>\n",
              "      <th>nearbyLocations</th>\n",
              "      <th>furnishDetails</th>\n",
              "      <th>features</th>\n",
              "    </tr>\n",
              "  </thead>\n",
              "  <tbody>\n",
              "    <tr>\n",
              "      <th>0</th>\n",
              "      <td>servant room,study room</td>\n",
              "      <td>4.0</td>\n",
              "      <td>East</td>\n",
              "      <td>1 to 5 Year Old</td>\n",
              "      <td>['Galleria 108 Mall', 'Dwarka Expressway', 'Ce...</td>\n",
              "      <td>['3 Wardrobe', '6 Fan', '1 Exhaust Fan', '1 Ge...</td>\n",
              "      <td>['Security / Fire Alarm', 'Power Back-up', 'Fe...</td>\n",
              "    </tr>\n",
              "    <tr>\n",
              "      <th>1</th>\n",
              "      <td>study room</td>\n",
              "      <td>7.0</td>\n",
              "      <td>North-East</td>\n",
              "      <td>0 to 1 Year Old</td>\n",
              "      <td>['Sector 55-56 Metro Station', 'Omaxe Gurgaon ...</td>\n",
              "      <td>['1 Water Purifier', '2 Fan', '1 Fridge', '1 E...</td>\n",
              "      <td>['Centrally Air Conditioned', 'Water purifier'...</td>\n",
              "    </tr>\n",
              "    <tr>\n",
              "      <th>2</th>\n",
              "      <td>pooja room,study room,servant room,others</td>\n",
              "      <td>3.0</td>\n",
              "      <td>East</td>\n",
              "      <td>5 to 10 Year Old</td>\n",
              "      <td>['Huda city centre metro station', 'New Life C...</td>\n",
              "      <td>['8 Wardrobe', '10 Fan', '1 Exhaust Fan', '10 ...</td>\n",
              "      <td>['Private Garden / Terrace', 'Water purifier',...</td>\n",
              "    </tr>\n",
              "    <tr>\n",
              "      <th>3</th>\n",
              "      <td>pooja room,study room,servant room</td>\n",
              "      <td>3.0</td>\n",
              "      <td>North-East</td>\n",
              "      <td>5 to 10 Year Old</td>\n",
              "      <td>['Rajiv Chowk Mosque', 'Icici bank ATM', 'Stat...</td>\n",
              "      <td>NaN</td>\n",
              "      <td>['Feng Shui / Vaastu Compliant', 'Maintenance ...</td>\n",
              "    </tr>\n",
              "    <tr>\n",
              "      <th>4</th>\n",
              "      <td>pooja room,servant room</td>\n",
              "      <td>3.0</td>\n",
              "      <td>East</td>\n",
              "      <td>1 to 5 Year Old</td>\n",
              "      <td>['Dlf phase 1 metro station', 'Sector 42-43 me...</td>\n",
              "      <td>['10 Wardrobe', '1 Water Purifier', '7 Fan', '...</td>\n",
              "      <td>['Feng Shui / Vaastu Compliant', 'Private Gard...</td>\n",
              "    </tr>\n",
              "  </tbody>\n",
              "</table>\n",
              "</div>\n",
              "    <div class=\"colab-df-buttons\">\n",
              "\n",
              "  <div class=\"colab-df-container\">\n",
              "    <button class=\"colab-df-convert\" onclick=\"convertToInteractive('df-b39f240e-bf02-43f5-8b5c-650556b1f5f8')\"\n",
              "            title=\"Convert this dataframe to an interactive table.\"\n",
              "            style=\"display:none;\">\n",
              "\n",
              "  <svg xmlns=\"http://www.w3.org/2000/svg\" height=\"24px\" viewBox=\"0 -960 960 960\">\n",
              "    <path d=\"M120-120v-720h720v720H120Zm60-500h600v-160H180v160Zm220 220h160v-160H400v160Zm0 220h160v-160H400v160ZM180-400h160v-160H180v160Zm440 0h160v-160H620v160ZM180-180h160v-160H180v160Zm440 0h160v-160H620v160Z\"/>\n",
              "  </svg>\n",
              "    </button>\n",
              "\n",
              "  <style>\n",
              "    .colab-df-container {\n",
              "      display:flex;\n",
              "      gap: 12px;\n",
              "    }\n",
              "\n",
              "    .colab-df-convert {\n",
              "      background-color: #E8F0FE;\n",
              "      border: none;\n",
              "      border-radius: 50%;\n",
              "      cursor: pointer;\n",
              "      display: none;\n",
              "      fill: #1967D2;\n",
              "      height: 32px;\n",
              "      padding: 0 0 0 0;\n",
              "      width: 32px;\n",
              "    }\n",
              "\n",
              "    .colab-df-convert:hover {\n",
              "      background-color: #E2EBFA;\n",
              "      box-shadow: 0px 1px 2px rgba(60, 64, 67, 0.3), 0px 1px 3px 1px rgba(60, 64, 67, 0.15);\n",
              "      fill: #174EA6;\n",
              "    }\n",
              "\n",
              "    .colab-df-buttons div {\n",
              "      margin-bottom: 4px;\n",
              "    }\n",
              "\n",
              "    [theme=dark] .colab-df-convert {\n",
              "      background-color: #3B4455;\n",
              "      fill: #D2E3FC;\n",
              "    }\n",
              "\n",
              "    [theme=dark] .colab-df-convert:hover {\n",
              "      background-color: #434B5C;\n",
              "      box-shadow: 0px 1px 3px 1px rgba(0, 0, 0, 0.15);\n",
              "      filter: drop-shadow(0px 1px 2px rgba(0, 0, 0, 0.3));\n",
              "      fill: #FFFFFF;\n",
              "    }\n",
              "  </style>\n",
              "\n",
              "    <script>\n",
              "      const buttonEl =\n",
              "        document.querySelector('#df-b39f240e-bf02-43f5-8b5c-650556b1f5f8 button.colab-df-convert');\n",
              "      buttonEl.style.display =\n",
              "        google.colab.kernel.accessAllowed ? 'block' : 'none';\n",
              "\n",
              "      async function convertToInteractive(key) {\n",
              "        const element = document.querySelector('#df-b39f240e-bf02-43f5-8b5c-650556b1f5f8');\n",
              "        const dataTable =\n",
              "          await google.colab.kernel.invokeFunction('convertToInteractive',\n",
              "                                                    [key], {});\n",
              "        if (!dataTable) return;\n",
              "\n",
              "        const docLinkHtml = 'Like what you see? Visit the ' +\n",
              "          '<a target=\"_blank\" href=https://colab.research.google.com/notebooks/data_table.ipynb>data table notebook</a>'\n",
              "          + ' to learn more about interactive tables.';\n",
              "        element.innerHTML = '';\n",
              "        dataTable['output_type'] = 'display_data';\n",
              "        await google.colab.output.renderOutput(dataTable, element);\n",
              "        const docLink = document.createElement('div');\n",
              "        docLink.innerHTML = docLinkHtml;\n",
              "        element.appendChild(docLink);\n",
              "      }\n",
              "    </script>\n",
              "  </div>\n",
              "\n",
              "\n",
              "<div id=\"df-89d9670b-8229-4a99-afd3-afad8039d3ec\">\n",
              "  <button class=\"colab-df-quickchart\" onclick=\"quickchart('df-89d9670b-8229-4a99-afd3-afad8039d3ec')\"\n",
              "            title=\"Suggest charts\"\n",
              "            style=\"display:none;\">\n",
              "\n",
              "<svg xmlns=\"http://www.w3.org/2000/svg\" height=\"24px\"viewBox=\"0 0 24 24\"\n",
              "     width=\"24px\">\n",
              "    <g>\n",
              "        <path d=\"M19 3H5c-1.1 0-2 .9-2 2v14c0 1.1.9 2 2 2h14c1.1 0 2-.9 2-2V5c0-1.1-.9-2-2-2zM9 17H7v-7h2v7zm4 0h-2V7h2v10zm4 0h-2v-4h2v4z\"/>\n",
              "    </g>\n",
              "</svg>\n",
              "  </button>\n",
              "\n",
              "<style>\n",
              "  .colab-df-quickchart {\n",
              "      --bg-color: #E8F0FE;\n",
              "      --fill-color: #1967D2;\n",
              "      --hover-bg-color: #E2EBFA;\n",
              "      --hover-fill-color: #174EA6;\n",
              "      --disabled-fill-color: #AAA;\n",
              "      --disabled-bg-color: #DDD;\n",
              "  }\n",
              "\n",
              "  [theme=dark] .colab-df-quickchart {\n",
              "      --bg-color: #3B4455;\n",
              "      --fill-color: #D2E3FC;\n",
              "      --hover-bg-color: #434B5C;\n",
              "      --hover-fill-color: #FFFFFF;\n",
              "      --disabled-bg-color: #3B4455;\n",
              "      --disabled-fill-color: #666;\n",
              "  }\n",
              "\n",
              "  .colab-df-quickchart {\n",
              "    background-color: var(--bg-color);\n",
              "    border: none;\n",
              "    border-radius: 50%;\n",
              "    cursor: pointer;\n",
              "    display: none;\n",
              "    fill: var(--fill-color);\n",
              "    height: 32px;\n",
              "    padding: 0;\n",
              "    width: 32px;\n",
              "  }\n",
              "\n",
              "  .colab-df-quickchart:hover {\n",
              "    background-color: var(--hover-bg-color);\n",
              "    box-shadow: 0 1px 2px rgba(60, 64, 67, 0.3), 0 1px 3px 1px rgba(60, 64, 67, 0.15);\n",
              "    fill: var(--button-hover-fill-color);\n",
              "  }\n",
              "\n",
              "  .colab-df-quickchart-complete:disabled,\n",
              "  .colab-df-quickchart-complete:disabled:hover {\n",
              "    background-color: var(--disabled-bg-color);\n",
              "    fill: var(--disabled-fill-color);\n",
              "    box-shadow: none;\n",
              "  }\n",
              "\n",
              "  .colab-df-spinner {\n",
              "    border: 2px solid var(--fill-color);\n",
              "    border-color: transparent;\n",
              "    border-bottom-color: var(--fill-color);\n",
              "    animation:\n",
              "      spin 1s steps(1) infinite;\n",
              "  }\n",
              "\n",
              "  @keyframes spin {\n",
              "    0% {\n",
              "      border-color: transparent;\n",
              "      border-bottom-color: var(--fill-color);\n",
              "      border-left-color: var(--fill-color);\n",
              "    }\n",
              "    20% {\n",
              "      border-color: transparent;\n",
              "      border-left-color: var(--fill-color);\n",
              "      border-top-color: var(--fill-color);\n",
              "    }\n",
              "    30% {\n",
              "      border-color: transparent;\n",
              "      border-left-color: var(--fill-color);\n",
              "      border-top-color: var(--fill-color);\n",
              "      border-right-color: var(--fill-color);\n",
              "    }\n",
              "    40% {\n",
              "      border-color: transparent;\n",
              "      border-right-color: var(--fill-color);\n",
              "      border-top-color: var(--fill-color);\n",
              "    }\n",
              "    60% {\n",
              "      border-color: transparent;\n",
              "      border-right-color: var(--fill-color);\n",
              "    }\n",
              "    80% {\n",
              "      border-color: transparent;\n",
              "      border-right-color: var(--fill-color);\n",
              "      border-bottom-color: var(--fill-color);\n",
              "    }\n",
              "    90% {\n",
              "      border-color: transparent;\n",
              "      border-bottom-color: var(--fill-color);\n",
              "    }\n",
              "  }\n",
              "</style>\n",
              "\n",
              "  <script>\n",
              "    async function quickchart(key) {\n",
              "      const quickchartButtonEl =\n",
              "        document.querySelector('#' + key + ' button');\n",
              "      quickchartButtonEl.disabled = true;  // To prevent multiple clicks.\n",
              "      quickchartButtonEl.classList.add('colab-df-spinner');\n",
              "      try {\n",
              "        const charts = await google.colab.kernel.invokeFunction(\n",
              "            'suggestCharts', [key], {});\n",
              "      } catch (error) {\n",
              "        console.error('Error during call to suggestCharts:', error);\n",
              "      }\n",
              "      quickchartButtonEl.classList.remove('colab-df-spinner');\n",
              "      quickchartButtonEl.classList.add('colab-df-quickchart-complete');\n",
              "    }\n",
              "    (() => {\n",
              "      let quickchartButtonEl =\n",
              "        document.querySelector('#df-89d9670b-8229-4a99-afd3-afad8039d3ec button');\n",
              "      quickchartButtonEl.style.display =\n",
              "        google.colab.kernel.accessAllowed ? 'block' : 'none';\n",
              "    })();\n",
              "  </script>\n",
              "</div>\n",
              "    </div>\n",
              "  </div>\n"
            ]
          },
          "metadata": {},
          "execution_count": 51
        }
      ],
      "source": [
        "df.iloc[:,10:].head()"
      ]
    },
    {
      "cell_type": "code",
      "execution_count": 52,
      "id": "4935ccd5",
      "metadata": {
        "id": "4935ccd5",
        "outputId": "84c73d6f-588a-44d7-d8a3-c187c3e2a8dc",
        "colab": {
          "base_uri": "https://localhost:8080/"
        }
      },
      "outputs": [
        {
          "output_type": "execute_result",
          "data": {
            "text/plain": [
              "19"
            ]
          },
          "metadata": {},
          "execution_count": 52
        }
      ],
      "source": [
        "df['floorNum'].isnull().sum()"
      ]
    },
    {
      "cell_type": "code",
      "execution_count": 53,
      "id": "754be8fc",
      "metadata": {
        "id": "754be8fc",
        "outputId": "7a773786-e481-42e4-b5c5-3ae576eda30c",
        "colab": {
          "base_uri": "https://localhost:8080/"
        }
      },
      "outputs": [
        {
          "output_type": "execute_result",
          "data": {
            "text/plain": [
              "count    3662.000000\n",
              "mean        6.798471\n",
              "std         6.016940\n",
              "min         0.000000\n",
              "25%         2.000000\n",
              "50%         5.000000\n",
              "75%        10.000000\n",
              "max        51.000000\n",
              "Name: floorNum, dtype: float64"
            ]
          },
          "metadata": {},
          "execution_count": 53
        }
      ],
      "source": [
        "df['floorNum'].describe()"
      ]
    },
    {
      "cell_type": "code",
      "execution_count": 54,
      "id": "53ee2641",
      "metadata": {
        "id": "53ee2641",
        "outputId": "81caf6db-9d07-400d-edc0-d09fcf6c359c",
        "colab": {
          "base_uri": "https://localhost:8080/",
          "height": 465
        }
      },
      "outputs": [
        {
          "output_type": "execute_result",
          "data": {
            "text/plain": [
              "<Axes: >"
            ]
          },
          "metadata": {},
          "execution_count": 54
        },
        {
          "output_type": "display_data",
          "data": {
            "text/plain": [
              "<Figure size 640x480 with 1 Axes>"
            ],
            "image/png": "[encoded data removed]"
          },
          "metadata": {}
        }
      ],
      "source": [
        "df['floorNum'].value_counts().head(10).sort_index().plot(kind='bar')"
      ]
    },
    {
      "cell_type": "code",
      "execution_count": 55,
      "id": "d7b71b07",
      "metadata": {
        "id": "d7b71b07",
        "outputId": "c7fb2856-f1fc-47fa-9714-53ee546ccbc5",
        "colab": {
          "base_uri": "https://localhost:8080/",
          "height": 448
        }
      },
      "outputs": [
        {
          "output_type": "execute_result",
          "data": {
            "text/plain": [
              "<Axes: >"
            ]
          },
          "metadata": {},
          "execution_count": 55
        },
        {
          "output_type": "display_data",
          "data": {
            "text/plain": [
              "<Figure size 640x480 with 1 Axes>"
            ],
            "image/png": "[encoded data removed]"
          },
          "metadata": {}
        }
      ],
      "source": [
        "sns.boxplot(df['floorNum'], color='lightgreen')"
      ]
    },
    {
      "cell_type": "markdown",
      "id": "4267239b",
      "metadata": {
        "id": "4267239b"
      },
      "source": [
        "- The majority of the properties lie between the ground floor (0) and the 25th floor.\n",
        "- Floors 1 to 4 are particularly common, with the 3rd floor being the most frequent.\n",
        "- There are a few properties located at higher floors, but their frequency is much lower.\n",
        "- The box plot reveals that the majority of the properties are concentrated around the lower floors. The interquartile range (IQR) lies between approximately the 2nd and 10th floors.\n",
        "- Data points beyond the \"whiskers\" of the box plot, especially on the higher side, indicate potential outliers."
      ]
    },
    {
      "cell_type": "markdown",
      "id": "1e823d7e",
      "metadata": {
        "id": "1e823d7e"
      },
      "source": [
        "### facing"
      ]
    },
    {
      "cell_type": "code",
      "execution_count": 56,
      "id": "c51cb12e",
      "metadata": {
        "id": "c51cb12e",
        "outputId": "42e9a693-1059-4f7e-c955-a0f93ba4654f",
        "colab": {
          "base_uri": "https://localhost:8080/"
        }
      },
      "outputs": [
        {
          "output_type": "execute_result",
          "data": {
            "text/plain": [
              "1048"
            ]
          },
          "metadata": {},
          "execution_count": 56
        }
      ],
      "source": [
        "df['facing'].isnull().sum()"
      ]
    },
    {
      "cell_type": "code",
      "execution_count": 57,
      "id": "a5bbac41",
      "metadata": {
        "id": "a5bbac41"
      },
      "outputs": [],
      "source": [
        "df['facing'].fillna('NA',inplace=True)"
      ]
    },
    {
      "cell_type": "code",
      "execution_count": 58,
      "id": "98aed58b",
      "metadata": {
        "id": "98aed58b",
        "outputId": "e889a4e1-a143-41d8-bd85-8c6f304da8e2",
        "colab": {
          "base_uri": "https://localhost:8080/"
        }
      },
      "outputs": [
        {
          "output_type": "execute_result",
          "data": {
            "text/plain": [
              "NA            1048\n",
              "East           624\n",
              "North-East     623\n",
              "North          387\n",
              "West           249\n",
              "South          231\n",
              "North-West     193\n",
              "South-East     173\n",
              "South-West     153\n",
              "Name: facing, dtype: int64"
            ]
          },
          "metadata": {},
          "execution_count": 58
        }
      ],
      "source": [
        "df['facing'].value_counts()"
      ]
    },
    {
      "cell_type": "markdown",
      "id": "3e2ba0a4",
      "metadata": {
        "id": "3e2ba0a4"
      },
      "source": [
        "### agePossession"
      ]
    },
    {
      "cell_type": "code",
      "execution_count": 59,
      "id": "cbe070c9",
      "metadata": {
        "id": "cbe070c9",
        "outputId": "4d07b5c8-3ea4-4608-d248-f8cfed5ea8e0",
        "colab": {
          "base_uri": "https://localhost:8080/"
        }
      },
      "outputs": [
        {
          "output_type": "execute_result",
          "data": {
            "text/plain": [
              "1"
            ]
          },
          "metadata": {},
          "execution_count": 59
        }
      ],
      "source": [
        "df['agePossession'].isnull().sum()"
      ]
    },
    {
      "cell_type": "code",
      "execution_count": 60,
      "id": "fb180d39",
      "metadata": {
        "id": "fb180d39",
        "outputId": "1f3a6960-9a98-464e-f484-95c8d8abf1d8",
        "colab": {
          "base_uri": "https://localhost:8080/"
        }
      },
      "outputs": [
        {
          "output_type": "execute_result",
          "data": {
            "text/plain": [
              "1 to 5 Year Old       1646\n",
              "5 to 10 Year Old       563\n",
              "0 to 1 Year Old        503\n",
              "undefined              307\n",
              "10+ Year Old           303\n",
              "Under Construction      88\n",
              "Within 6 months         67\n",
              "Within 3 months         24\n",
              "Dec 2023                20\n",
              "By 2023                 17\n",
              "By 2024                 16\n",
              "Dec 2024                15\n",
              "Mar 2024                12\n",
              "Dec 2025                 7\n",
              "Jan 2024                 7\n",
              "Jun 2024                 7\n",
              "Aug 2023                 6\n",
              "Oct 2024                 6\n",
              "Nov 2023                 5\n",
              "Aug 2024                 4\n",
              "By 2025                  4\n",
              "Oct 2023                 4\n",
              "Sep 2023                 4\n",
              "Nov 2024                 3\n",
              "Jul 2024                 3\n",
              "May 2024                 3\n",
              "Feb 2024                 3\n",
              "Jan 2025                 3\n",
              "Mar 2025                 2\n",
              "Aug 2025                 2\n",
              "Jul 2025                 2\n",
              "Jan 2026                 2\n",
              "Sep 2025                 2\n",
              "Dec 2026                 2\n",
              "By 2027                  2\n",
              "Apr 2026                 2\n",
              "Jul 2027                 2\n",
              "Jun 2027                 2\n",
              "Oct 2025                 1\n",
              "Jan 2027                 1\n",
              "Mar 2026                 1\n",
              "Jun 2025                 1\n",
              "Aug 2026                 1\n",
              "Sep 2027                 1\n",
              "Nov 2025                 1\n",
              "Jan 2028                 1\n",
              "Jul 2026                 1\n",
              "Apr 2024                 1\n",
              "Name: agePossession, dtype: int64"
            ]
          },
          "metadata": {},
          "execution_count": 60
        }
      ],
      "source": [
        "df['agePossession'].value_counts()"
      ]
    },
    {
      "cell_type": "markdown",
      "source": [
        "# Nearby locations"
      ],
      "metadata": {
        "id": "iwE2MqzDHSZ0"
      },
      "id": "iwE2MqzDHSZ0"
    },
    {
      "cell_type": "code",
      "source": [
        "df_eda_nearby = df.copy()"
      ],
      "metadata": {
        "id": "MfAzWFE3jPdP"
      },
      "execution_count": 61,
      "outputs": [],
      "id": "MfAzWFE3jPdP"
    },
    {
      "cell_type": "code",
      "source": [
        "df_eda_nearby['nearbyLocations'].isnull().sum()"
      ],
      "metadata": {
        "colab": {
          "base_uri": "https://localhost:8080/"
        },
        "outputId": "70fbe642-3658-45c9-d626-3c04dcd757f9",
        "id": "Mha2pwb8jPdQ"
      },
      "execution_count": 62,
      "outputs": [
        {
          "output_type": "execute_result",
          "data": {
            "text/plain": [
              "170"
            ]
          },
          "metadata": {},
          "execution_count": 62
        }
      ],
      "id": "Mha2pwb8jPdQ"
    },
    {
      "cell_type": "code",
      "source": [
        "df_eda_nearby['nearbyLocations'] = df_eda_nearby['nearbyLocations'].str.replace(r'\\[\\]', '')"
      ],
      "metadata": {
        "colab": {
          "base_uri": "https://localhost:8080/"
        },
        "outputId": "966fa3ab-b9d8-422e-aca9-2c010e1e2a1d",
        "id": "TE-9js73jPdQ"
      },
      "execution_count": 63,
      "outputs": [
        {
          "output_type": "stream",
          "name": "stderr",
          "text": [
            "<ipython-input-63-49ba2bfc1b4c>:1: FutureWarning: The default value of regex will change from True to False in a future version.\n",
            "  df_eda_nearby['nearbyLocations'] = df_eda_nearby['nearbyLocations'].str.replace(r'\\[\\]', '')\n"
          ]
        }
      ],
      "id": "TE-9js73jPdQ"
    },
    {
      "cell_type": "code",
      "source": [
        "df_eda_nearby['nearbyLocations'] = df_eda_nearby['nearbyLocations'].replace('', np.nan)"
      ],
      "metadata": {
        "id": "1nr6Eyk2jPdQ"
      },
      "execution_count": 64,
      "outputs": [],
      "id": "1nr6Eyk2jPdQ"
    },
    {
      "cell_type": "code",
      "source": [
        "df_eda_nearby['nearbyLocations'] = df_eda_nearby['nearbyLocations'].str.strip('[]')"
      ],
      "metadata": {
        "id": "RHQJNvhLjPdQ"
      },
      "execution_count": 65,
      "outputs": [],
      "id": "RHQJNvhLjPdQ"
    },
    {
      "cell_type": "code",
      "source": [
        "df_eda_nearby['nearbyLocations'].fillna('NA',inplace=True)"
      ],
      "metadata": {
        "id": "x_xLst4DjPdQ"
      },
      "execution_count": 66,
      "outputs": [],
      "id": "x_xLst4DjPdQ"
    },
    {
      "cell_type": "code",
      "source": [
        "df_eda_nearby['nearbyLocations'] = df_eda_nearby['nearbyLocations'].apply(lambda x: x.strip('\"\"').split(', '))"
      ],
      "metadata": {
        "id": "J09HPimFjPdQ"
      },
      "execution_count": 67,
      "outputs": [],
      "id": "J09HPimFjPdQ"
    },
    {
      "cell_type": "code",
      "source": [
        "#df_eda_furniture['furnishDetails'] = df_eda_furniture['furnishDetails'].str.replace(r'^\\d{2,3}', '')\n",
        "df_exploded = df_eda_nearby.explode('nearbyLocations')\n",
        "df_exploded['nearbyLocations'] = df_exploded['nearbyLocations'].apply(lambda x: re.sub(r'[\\d\\s]+', '', x))\n",
        "top_locations = df_exploded['nearbyLocations'].value_counts()\n",
        "\n",
        "# Create a DataFrame for the top features\n",
        "top_locations_df = pd.DataFrame({'Furniture': top_locations.index, 'Count': top_locations.values})\n",
        "\n",
        "\n",
        "filtered_df_available = top_locations_df[~(top_locations_df['Furniture'].str.contains(r'\\bNo')) & ~(top_locations_df['Furniture']=='NA')]\n",
        "filtered_df_available.reset_index().drop(columns=['index']).head(10)"
      ],
      "metadata": {
        "colab": {
          "base_uri": "https://localhost:8080/",
          "height": 363
        },
        "outputId": "1c56e4fb-70cb-4542-8587-4fd74d3c6117",
        "id": "YYxf_obRjPdQ"
      },
      "execution_count": 68,
      "outputs": [
        {
          "output_type": "execute_result",
          "data": {
            "text/plain": [
              "                            Furniture  Count\n",
              "0  'IndiraGandhiInternationalAirport'   1049\n",
              "1                          'Hdfcbank'   1023\n",
              "2                  'DwarkaExpressway'    677\n",
              "3                      'IcicibankATM'    530\n",
              "4                          'PizzaHut'    495\n",
              "5           'SkyJumperTrampolinePark'    486\n",
              "6                         'Icicibank'    480\n",
              "7           'IndiraGandhiIntlAirport'    448\n",
              "8             'Gurgaonrailwaystation'    448\n",
              "9                          'Axisbank'    394"
            ],
            "text/html": [
              "\n",
              "  <div id=\"df-c9732ef9-c80e-4576-bc68-6d9ec77db22f\" class=\"colab-df-container\">\n",
              "    <div>\n",
              "<style scoped>\n",
              "    .dataframe tbody tr th:only-of-type {\n",
              "        vertical-align: middle;\n",
              "    }\n",
              "\n",
              "    .dataframe tbody tr th {\n",
              "        vertical-align: top;\n",
              "    }\n",
              "\n",
              "    .dataframe thead th {\n",
              "        text-align: right;\n",
              "    }\n",
              "</style>\n",
              "<table border=\"1\" class=\"dataframe\">\n",
              "  <thead>\n",
              "    <tr style=\"text-align: right;\">\n",
              "      <th></th>\n",
              "      <th>Furniture</th>\n",
              "      <th>Count</th>\n",
              "    </tr>\n",
              "  </thead>\n",
              "  <tbody>\n",
              "    <tr>\n",
              "      <th>0</th>\n",
              "      <td>'IndiraGandhiInternationalAirport'</td>\n",
              "      <td>1049</td>\n",
              "    </tr>\n",
              "    <tr>\n",
              "      <th>1</th>\n",
              "      <td>'Hdfcbank'</td>\n",
              "      <td>1023</td>\n",
              "    </tr>\n",
              "    <tr>\n",
              "      <th>2</th>\n",
              "      <td>'DwarkaExpressway'</td>\n",
              "      <td>677</td>\n",
              "    </tr>\n",
              "    <tr>\n",
              "      <th>3</th>\n",
              "      <td>'IcicibankATM'</td>\n",
              "      <td>530</td>\n",
              "    </tr>\n",
              "    <tr>\n",
              "      <th>4</th>\n",
              "      <td>'PizzaHut'</td>\n",
              "      <td>495</td>\n",
              "    </tr>\n",
              "    <tr>\n",
              "      <th>5</th>\n",
              "      <td>'SkyJumperTrampolinePark'</td>\n",
              "      <td>486</td>\n",
              "    </tr>\n",
              "    <tr>\n",
              "      <th>6</th>\n",
              "      <td>'Icicibank'</td>\n",
              "      <td>480</td>\n",
              "    </tr>\n",
              "    <tr>\n",
              "      <th>7</th>\n",
              "      <td>'IndiraGandhiIntlAirport'</td>\n",
              "      <td>448</td>\n",
              "    </tr>\n",
              "    <tr>\n",
              "      <th>8</th>\n",
              "      <td>'Gurgaonrailwaystation'</td>\n",
              "      <td>448</td>\n",
              "    </tr>\n",
              "    <tr>\n",
              "      <th>9</th>\n",
              "      <td>'Axisbank'</td>\n",
              "      <td>394</td>\n",
              "    </tr>\n",
              "  </tbody>\n",
              "</table>\n",
              "</div>\n",
              "    <div class=\"colab-df-buttons\">\n",
              "\n",
              "  <div class=\"colab-df-container\">\n",
              "    <button class=\"colab-df-convert\" onclick=\"convertToInteractive('df-c9732ef9-c80e-4576-bc68-6d9ec77db22f')\"\n",
              "            title=\"Convert this dataframe to an interactive table.\"\n",
              "            style=\"display:none;\">\n",
              "\n",
              "  <svg xmlns=\"http://www.w3.org/2000/svg\" height=\"24px\" viewBox=\"0 -960 960 960\">\n",
              "    <path d=\"M120-120v-720h720v720H120Zm60-500h600v-160H180v160Zm220 220h160v-160H400v160Zm0 220h160v-160H400v160ZM180-400h160v-160H180v160Zm440 0h160v-160H620v160ZM180-180h160v-160H180v160Zm440 0h160v-160H620v160Z\"/>\n",
              "  </svg>\n",
              "    </button>\n",
              "\n",
              "  <style>\n",
              "    .colab-df-container {\n",
              "      display:flex;\n",
              "      gap: 12px;\n",
              "    }\n",
              "\n",
              "    .colab-df-convert {\n",
              "      background-color: #E8F0FE;\n",
              "      border: none;\n",
              "      border-radius: 50%;\n",
              "      cursor: pointer;\n",
              "      display: none;\n",
              "      fill: #1967D2;\n",
              "      height: 32px;\n",
              "      padding: 0 0 0 0;\n",
              "      width: 32px;\n",
              "    }\n",
              "\n",
              "    .colab-df-convert:hover {\n",
              "      background-color: #E2EBFA;\n",
              "      box-shadow: 0px 1px 2px rgba(60, 64, 67, 0.3), 0px 1px 3px 1px rgba(60, 64, 67, 0.15);\n",
              "      fill: #174EA6;\n",
              "    }\n",
              "\n",
              "    .colab-df-buttons div {\n",
              "      margin-bottom: 4px;\n",
              "    }\n",
              "\n",
              "    [theme=dark] .colab-df-convert {\n",
              "      background-color: #3B4455;\n",
              "      fill: #D2E3FC;\n",
              "    }\n",
              "\n",
              "    [theme=dark] .colab-df-convert:hover {\n",
              "      background-color: #434B5C;\n",
              "      box-shadow: 0px 1px 3px 1px rgba(0, 0, 0, 0.15);\n",
              "      filter: drop-shadow(0px 1px 2px rgba(0, 0, 0, 0.3));\n",
              "      fill: #FFFFFF;\n",
              "    }\n",
              "  </style>\n",
              "\n",
              "    <script>\n",
              "      const buttonEl =\n",
              "        document.querySelector('#df-c9732ef9-c80e-4576-bc68-6d9ec77db22f button.colab-df-convert');\n",
              "      buttonEl.style.display =\n",
              "        google.colab.kernel.accessAllowed ? 'block' : 'none';\n",
              "\n",
              "      async function convertToInteractive(key) {\n",
              "        const element = document.querySelector('#df-c9732ef9-c80e-4576-bc68-6d9ec77db22f');\n",
              "        const dataTable =\n",
              "          await google.colab.kernel.invokeFunction('convertToInteractive',\n",
              "                                                    [key], {});\n",
              "        if (!dataTable) return;\n",
              "\n",
              "        const docLinkHtml = 'Like what you see? Visit the ' +\n",
              "          '<a target=\"_blank\" href=https://colab.research.google.com/notebooks/data_table.ipynb>data table notebook</a>'\n",
              "          + ' to learn more about interactive tables.';\n",
              "        element.innerHTML = '';\n",
              "        dataTable['output_type'] = 'display_data';\n",
              "        await google.colab.output.renderOutput(dataTable, element);\n",
              "        const docLink = document.createElement('div');\n",
              "        docLink.innerHTML = docLinkHtml;\n",
              "        element.appendChild(docLink);\n",
              "      }\n",
              "    </script>\n",
              "  </div>\n",
              "\n",
              "\n",
              "<div id=\"df-3659cad3-c724-4b66-939f-16e23add7528\">\n",
              "  <button class=\"colab-df-quickchart\" onclick=\"quickchart('df-3659cad3-c724-4b66-939f-16e23add7528')\"\n",
              "            title=\"Suggest charts\"\n",
              "            style=\"display:none;\">\n",
              "\n",
              "<svg xmlns=\"http://www.w3.org/2000/svg\" height=\"24px\"viewBox=\"0 0 24 24\"\n",
              "     width=\"24px\">\n",
              "    <g>\n",
              "        <path d=\"M19 3H5c-1.1 0-2 .9-2 2v14c0 1.1.9 2 2 2h14c1.1 0 2-.9 2-2V5c0-1.1-.9-2-2-2zM9 17H7v-7h2v7zm4 0h-2V7h2v10zm4 0h-2v-4h2v4z\"/>\n",
              "    </g>\n",
              "</svg>\n",
              "  </button>\n",
              "\n",
              "<style>\n",
              "  .colab-df-quickchart {\n",
              "      --bg-color: #E8F0FE;\n",
              "      --fill-color: #1967D2;\n",
              "      --hover-bg-color: #E2EBFA;\n",
              "      --hover-fill-color: #174EA6;\n",
              "      --disabled-fill-color: #AAA;\n",
              "      --disabled-bg-color: #DDD;\n",
              "  }\n",
              "\n",
              "  [theme=dark] .colab-df-quickchart {\n",
              "      --bg-color: #3B4455;\n",
              "      --fill-color: #D2E3FC;\n",
              "      --hover-bg-color: #434B5C;\n",
              "      --hover-fill-color: #FFFFFF;\n",
              "      --disabled-bg-color: #3B4455;\n",
              "      --disabled-fill-color: #666;\n",
              "  }\n",
              "\n",
              "  .colab-df-quickchart {\n",
              "    background-color: var(--bg-color);\n",
              "    border: none;\n",
              "    border-radius: 50%;\n",
              "    cursor: pointer;\n",
              "    display: none;\n",
              "    fill: var(--fill-color);\n",
              "    height: 32px;\n",
              "    padding: 0;\n",
              "    width: 32px;\n",
              "  }\n",
              "\n",
              "  .colab-df-quickchart:hover {\n",
              "    background-color: var(--hover-bg-color);\n",
              "    box-shadow: 0 1px 2px rgba(60, 64, 67, 0.3), 0 1px 3px 1px rgba(60, 64, 67, 0.15);\n",
              "    fill: var(--button-hover-fill-color);\n",
              "  }\n",
              "\n",
              "  .colab-df-quickchart-complete:disabled,\n",
              "  .colab-df-quickchart-complete:disabled:hover {\n",
              "    background-color: var(--disabled-bg-color);\n",
              "    fill: var(--disabled-fill-color);\n",
              "    box-shadow: none;\n",
              "  }\n",
              "\n",
              "  .colab-df-spinner {\n",
              "    border: 2px solid var(--fill-color);\n",
              "    border-color: transparent;\n",
              "    border-bottom-color: var(--fill-color);\n",
              "    animation:\n",
              "      spin 1s steps(1) infinite;\n",
              "  }\n",
              "\n",
              "  @keyframes spin {\n",
              "    0% {\n",
              "      border-color: transparent;\n",
              "      border-bottom-color: var(--fill-color);\n",
              "      border-left-color: var(--fill-color);\n",
              "    }\n",
              "    20% {\n",
              "      border-color: transparent;\n",
              "      border-left-color: var(--fill-color);\n",
              "      border-top-color: var(--fill-color);\n",
              "    }\n",
              "    30% {\n",
              "      border-color: transparent;\n",
              "      border-left-color: var(--fill-color);\n",
              "      border-top-color: var(--fill-color);\n",
              "      border-right-color: var(--fill-color);\n",
              "    }\n",
              "    40% {\n",
              "      border-color: transparent;\n",
              "      border-right-color: var(--fill-color);\n",
              "      border-top-color: var(--fill-color);\n",
              "    }\n",
              "    60% {\n",
              "      border-color: transparent;\n",
              "      border-right-color: var(--fill-color);\n",
              "    }\n",
              "    80% {\n",
              "      border-color: transparent;\n",
              "      border-right-color: var(--fill-color);\n",
              "      border-bottom-color: var(--fill-color);\n",
              "    }\n",
              "    90% {\n",
              "      border-color: transparent;\n",
              "      border-bottom-color: var(--fill-color);\n",
              "    }\n",
              "  }\n",
              "</style>\n",
              "\n",
              "  <script>\n",
              "    async function quickchart(key) {\n",
              "      const quickchartButtonEl =\n",
              "        document.querySelector('#' + key + ' button');\n",
              "      quickchartButtonEl.disabled = true;  // To prevent multiple clicks.\n",
              "      quickchartButtonEl.classList.add('colab-df-spinner');\n",
              "      try {\n",
              "        const charts = await google.colab.kernel.invokeFunction(\n",
              "            'suggestCharts', [key], {});\n",
              "      } catch (error) {\n",
              "        console.error('Error during call to suggestCharts:', error);\n",
              "      }\n",
              "      quickchartButtonEl.classList.remove('colab-df-spinner');\n",
              "      quickchartButtonEl.classList.add('colab-df-quickchart-complete');\n",
              "    }\n",
              "    (() => {\n",
              "      let quickchartButtonEl =\n",
              "        document.querySelector('#df-3659cad3-c724-4b66-939f-16e23add7528 button');\n",
              "      quickchartButtonEl.style.display =\n",
              "        google.colab.kernel.accessAllowed ? 'block' : 'none';\n",
              "    })();\n",
              "  </script>\n",
              "</div>\n",
              "    </div>\n",
              "  </div>\n"
            ]
          },
          "metadata": {},
          "execution_count": 68
        }
      ],
      "id": "YYxf_obRjPdQ"
    },
    {
      "cell_type": "markdown",
      "source": [
        "# Furniture Details"
      ],
      "metadata": {
        "id": "ZotaR0hvHYGu"
      },
      "id": "ZotaR0hvHYGu"
    },
    {
      "cell_type": "code",
      "source": [
        "df_eda_furniture = df.copy()"
      ],
      "metadata": {
        "id": "iXLTuLqBWLxE"
      },
      "id": "iXLTuLqBWLxE",
      "execution_count": 69,
      "outputs": []
    },
    {
      "cell_type": "code",
      "source": [
        "df_eda_furniture['furnishDetails'].isnull().sum()"
      ],
      "metadata": {
        "colab": {
          "base_uri": "https://localhost:8080/"
        },
        "id": "91UW_eI3HmGW",
        "outputId": "ab1b1130-7ec2-4103-9288-6ff57cf6119c"
      },
      "id": "91UW_eI3HmGW",
      "execution_count": 70,
      "outputs": [
        {
          "output_type": "execute_result",
          "data": {
            "text/plain": [
              "946"
            ]
          },
          "metadata": {},
          "execution_count": 70
        }
      ]
    },
    {
      "cell_type": "code",
      "source": [
        "df_eda_furniture['furnishDetails'] = df_eda_furniture['furnishDetails'].str.replace(r'\\[\\]', '')"
      ],
      "metadata": {
        "colab": {
          "base_uri": "https://localhost:8080/"
        },
        "id": "-_30ESVCgXHV",
        "outputId": "87fa22a3-7124-4329-b23c-01dfc3df422e"
      },
      "id": "-_30ESVCgXHV",
      "execution_count": 71,
      "outputs": [
        {
          "output_type": "stream",
          "name": "stderr",
          "text": [
            "<ipython-input-71-012240bfa2b2>:1: FutureWarning: The default value of regex will change from True to False in a future version.\n",
            "  df_eda_furniture['furnishDetails'] = df_eda_furniture['furnishDetails'].str.replace(r'\\[\\]', '')\n"
          ]
        }
      ]
    },
    {
      "cell_type": "code",
      "source": [
        "df_eda_furniture['furnishDetails'] = df_eda_furniture['furnishDetails'].replace('', np.nan)"
      ],
      "metadata": {
        "id": "QK71azLJfpxB"
      },
      "id": "QK71azLJfpxB",
      "execution_count": 72,
      "outputs": []
    },
    {
      "cell_type": "code",
      "source": [
        "df_eda_furniture['furnishDetails'] = df_eda_furniture['furnishDetails'].str.strip('[]')"
      ],
      "metadata": {
        "id": "1GesvDCsW75h"
      },
      "id": "1GesvDCsW75h",
      "execution_count": 73,
      "outputs": []
    },
    {
      "cell_type": "code",
      "source": [
        "df_eda_furniture['furnishDetails'].fillna('NA',inplace=True)"
      ],
      "metadata": {
        "id": "TbZ-aumNe6u0"
      },
      "id": "TbZ-aumNe6u0",
      "execution_count": 74,
      "outputs": []
    },
    {
      "cell_type": "code",
      "source": [
        "df_eda_furniture['furnishDetails'] = df_eda_furniture['furnishDetails'].apply(lambda x: x.strip('\"\"').split(', '))"
      ],
      "metadata": {
        "id": "D5Q7LPEbWX3F"
      },
      "id": "D5Q7LPEbWX3F",
      "execution_count": 75,
      "outputs": []
    },
    {
      "cell_type": "code",
      "source": [
        "#df_eda_furniture['furnishDetails'] = df_eda_furniture['furnishDetails'].str.replace(r'^\\d{2,3}', '')\n",
        "df_exploded = df_eda_furniture.explode('furnishDetails')\n",
        "df_exploded['furnishDetails'] = df_exploded['furnishDetails'].apply(lambda x: re.sub(r'[\\d\\s]+', '', x))\n",
        "top_furnitures = df_exploded['furnishDetails'].value_counts()\n",
        "\n",
        "# Create a DataFrame for the top features\n",
        "top_furnitures_df = pd.DataFrame({'Furniture': top_furnitures.index, 'Count': top_furnitures.values})\n",
        "\n",
        "\n",
        "filtered_df_available = top_furnitures_df[~(top_furnitures_df['Furniture'].str.contains(r'\\bNo')) & ~(top_furnitures_df['Furniture']=='NA')]\n",
        "filtered_df_available.reset_index().drop(columns=['index']).head(10)"
      ],
      "metadata": {
        "colab": {
          "base_uri": "https://localhost:8080/",
          "height": 363
        },
        "id": "uwMANAOfWZXI",
        "outputId": "03803162-10e9-45a5-b6bf-31ac9e389926"
      },
      "id": "uwMANAOfWZXI",
      "execution_count": 76,
      "outputs": [
        {
          "output_type": "execute_result",
          "data": {
            "text/plain": [
              "          Furniture  Count\n",
              "0           'Light'   1878\n",
              "1             'Fan'   1592\n",
              "2  'ModularKitchen'   1486\n",
              "3        'Wardrobe'   1410\n",
              "4      'ExhaustFan'   1220\n",
              "5          'Geyser'   1202\n",
              "6         'Chimney'   1146\n",
              "7              'AC'   1125\n",
              "8        'Curtains'    537\n",
              "9           'Stove'    471"
            ],
            "text/html": [
              "\n",
              "  <div id=\"df-1068b142-d978-4c20-933a-a09754bee6b9\" class=\"colab-df-container\">\n",
              "    <div>\n",
              "<style scoped>\n",
              "    .dataframe tbody tr th:only-of-type {\n",
              "        vertical-align: middle;\n",
              "    }\n",
              "\n",
              "    .dataframe tbody tr th {\n",
              "        vertical-align: top;\n",
              "    }\n",
              "\n",
              "    .dataframe thead th {\n",
              "        text-align: right;\n",
              "    }\n",
              "</style>\n",
              "<table border=\"1\" class=\"dataframe\">\n",
              "  <thead>\n",
              "    <tr style=\"text-align: right;\">\n",
              "      <th></th>\n",
              "      <th>Furniture</th>\n",
              "      <th>Count</th>\n",
              "    </tr>\n",
              "  </thead>\n",
              "  <tbody>\n",
              "    <tr>\n",
              "      <th>0</th>\n",
              "      <td>'Light'</td>\n",
              "      <td>1878</td>\n",
              "    </tr>\n",
              "    <tr>\n",
              "      <th>1</th>\n",
              "      <td>'Fan'</td>\n",
              "      <td>1592</td>\n",
              "    </tr>\n",
              "    <tr>\n",
              "      <th>2</th>\n",
              "      <td>'ModularKitchen'</td>\n",
              "      <td>1486</td>\n",
              "    </tr>\n",
              "    <tr>\n",
              "      <th>3</th>\n",
              "      <td>'Wardrobe'</td>\n",
              "      <td>1410</td>\n",
              "    </tr>\n",
              "    <tr>\n",
              "      <th>4</th>\n",
              "      <td>'ExhaustFan'</td>\n",
              "      <td>1220</td>\n",
              "    </tr>\n",
              "    <tr>\n",
              "      <th>5</th>\n",
              "      <td>'Geyser'</td>\n",
              "      <td>1202</td>\n",
              "    </tr>\n",
              "    <tr>\n",
              "      <th>6</th>\n",
              "      <td>'Chimney'</td>\n",
              "      <td>1146</td>\n",
              "    </tr>\n",
              "    <tr>\n",
              "      <th>7</th>\n",
              "      <td>'AC'</td>\n",
              "      <td>1125</td>\n",
              "    </tr>\n",
              "    <tr>\n",
              "      <th>8</th>\n",
              "      <td>'Curtains'</td>\n",
              "      <td>537</td>\n",
              "    </tr>\n",
              "    <tr>\n",
              "      <th>9</th>\n",
              "      <td>'Stove'</td>\n",
              "      <td>471</td>\n",
              "    </tr>\n",
              "  </tbody>\n",
              "</table>\n",
              "</div>\n",
              "    <div class=\"colab-df-buttons\">\n",
              "\n",
              "  <div class=\"colab-df-container\">\n",
              "    <button class=\"colab-df-convert\" onclick=\"convertToInteractive('df-1068b142-d978-4c20-933a-a09754bee6b9')\"\n",
              "            title=\"Convert this dataframe to an interactive table.\"\n",
              "            style=\"display:none;\">\n",
              "\n",
              "  <svg xmlns=\"http://www.w3.org/2000/svg\" height=\"24px\" viewBox=\"0 -960 960 960\">\n",
              "    <path d=\"M120-120v-720h720v720H120Zm60-500h600v-160H180v160Zm220 220h160v-160H400v160Zm0 220h160v-160H400v160ZM180-400h160v-160H180v160Zm440 0h160v-160H620v160ZM180-180h160v-160H180v160Zm440 0h160v-160H620v160Z\"/>\n",
              "  </svg>\n",
              "    </button>\n",
              "\n",
              "  <style>\n",
              "    .colab-df-container {\n",
              "      display:flex;\n",
              "      gap: 12px;\n",
              "    }\n",
              "\n",
              "    .colab-df-convert {\n",
              "      background-color: #E8F0FE;\n",
              "      border: none;\n",
              "      border-radius: 50%;\n",
              "      cursor: pointer;\n",
              "      display: none;\n",
              "      fill: #1967D2;\n",
              "      height: 32px;\n",
              "      padding: 0 0 0 0;\n",
              "      width: 32px;\n",
              "    }\n",
              "\n",
              "    .colab-df-convert:hover {\n",
              "      background-color: #E2EBFA;\n",
              "      box-shadow: 0px 1px 2px rgba(60, 64, 67, 0.3), 0px 1px 3px 1px rgba(60, 64, 67, 0.15);\n",
              "      fill: #174EA6;\n",
              "    }\n",
              "\n",
              "    .colab-df-buttons div {\n",
              "      margin-bottom: 4px;\n",
              "    }\n",
              "\n",
              "    [theme=dark] .colab-df-convert {\n",
              "      background-color: #3B4455;\n",
              "      fill: #D2E3FC;\n",
              "    }\n",
              "\n",
              "    [theme=dark] .colab-df-convert:hover {\n",
              "      background-color: #434B5C;\n",
              "      box-shadow: 0px 1px 3px 1px rgba(0, 0, 0, 0.15);\n",
              "      filter: drop-shadow(0px 1px 2px rgba(0, 0, 0, 0.3));\n",
              "      fill: #FFFFFF;\n",
              "    }\n",
              "  </style>\n",
              "\n",
              "    <script>\n",
              "      const buttonEl =\n",
              "        document.querySelector('#df-1068b142-d978-4c20-933a-a09754bee6b9 button.colab-df-convert');\n",
              "      buttonEl.style.display =\n",
              "        google.colab.kernel.accessAllowed ? 'block' : 'none';\n",
              "\n",
              "      async function convertToInteractive(key) {\n",
              "        const element = document.querySelector('#df-1068b142-d978-4c20-933a-a09754bee6b9');\n",
              "        const dataTable =\n",
              "          await google.colab.kernel.invokeFunction('convertToInteractive',\n",
              "                                                    [key], {});\n",
              "        if (!dataTable) return;\n",
              "\n",
              "        const docLinkHtml = 'Like what you see? Visit the ' +\n",
              "          '<a target=\"_blank\" href=https://colab.research.google.com/notebooks/data_table.ipynb>data table notebook</a>'\n",
              "          + ' to learn more about interactive tables.';\n",
              "        element.innerHTML = '';\n",
              "        dataTable['output_type'] = 'display_data';\n",
              "        await google.colab.output.renderOutput(dataTable, element);\n",
              "        const docLink = document.createElement('div');\n",
              "        docLink.innerHTML = docLinkHtml;\n",
              "        element.appendChild(docLink);\n",
              "      }\n",
              "    </script>\n",
              "  </div>\n",
              "\n",
              "\n",
              "<div id=\"df-730928f8-978b-41c2-acd6-af76c09fb5a9\">\n",
              "  <button class=\"colab-df-quickchart\" onclick=\"quickchart('df-730928f8-978b-41c2-acd6-af76c09fb5a9')\"\n",
              "            title=\"Suggest charts\"\n",
              "            style=\"display:none;\">\n",
              "\n",
              "<svg xmlns=\"http://www.w3.org/2000/svg\" height=\"24px\"viewBox=\"0 0 24 24\"\n",
              "     width=\"24px\">\n",
              "    <g>\n",
              "        <path d=\"M19 3H5c-1.1 0-2 .9-2 2v14c0 1.1.9 2 2 2h14c1.1 0 2-.9 2-2V5c0-1.1-.9-2-2-2zM9 17H7v-7h2v7zm4 0h-2V7h2v10zm4 0h-2v-4h2v4z\"/>\n",
              "    </g>\n",
              "</svg>\n",
              "  </button>\n",
              "\n",
              "<style>\n",
              "  .colab-df-quickchart {\n",
              "      --bg-color: #E8F0FE;\n",
              "      --fill-color: #1967D2;\n",
              "      --hover-bg-color: #E2EBFA;\n",
              "      --hover-fill-color: #174EA6;\n",
              "      --disabled-fill-color: #AAA;\n",
              "      --disabled-bg-color: #DDD;\n",
              "  }\n",
              "\n",
              "  [theme=dark] .colab-df-quickchart {\n",
              "      --bg-color: #3B4455;\n",
              "      --fill-color: #D2E3FC;\n",
              "      --hover-bg-color: #434B5C;\n",
              "      --hover-fill-color: #FFFFFF;\n",
              "      --disabled-bg-color: #3B4455;\n",
              "      --disabled-fill-color: #666;\n",
              "  }\n",
              "\n",
              "  .colab-df-quickchart {\n",
              "    background-color: var(--bg-color);\n",
              "    border: none;\n",
              "    border-radius: 50%;\n",
              "    cursor: pointer;\n",
              "    display: none;\n",
              "    fill: var(--fill-color);\n",
              "    height: 32px;\n",
              "    padding: 0;\n",
              "    width: 32px;\n",
              "  }\n",
              "\n",
              "  .colab-df-quickchart:hover {\n",
              "    background-color: var(--hover-bg-color);\n",
              "    box-shadow: 0 1px 2px rgba(60, 64, 67, 0.3), 0 1px 3px 1px rgba(60, 64, 67, 0.15);\n",
              "    fill: var(--button-hover-fill-color);\n",
              "  }\n",
              "\n",
              "  .colab-df-quickchart-complete:disabled,\n",
              "  .colab-df-quickchart-complete:disabled:hover {\n",
              "    background-color: var(--disabled-bg-color);\n",
              "    fill: var(--disabled-fill-color);\n",
              "    box-shadow: none;\n",
              "  }\n",
              "\n",
              "  .colab-df-spinner {\n",
              "    border: 2px solid var(--fill-color);\n",
              "    border-color: transparent;\n",
              "    border-bottom-color: var(--fill-color);\n",
              "    animation:\n",
              "      spin 1s steps(1) infinite;\n",
              "  }\n",
              "\n",
              "  @keyframes spin {\n",
              "    0% {\n",
              "      border-color: transparent;\n",
              "      border-bottom-color: var(--fill-color);\n",
              "      border-left-color: var(--fill-color);\n",
              "    }\n",
              "    20% {\n",
              "      border-color: transparent;\n",
              "      border-left-color: var(--fill-color);\n",
              "      border-top-color: var(--fill-color);\n",
              "    }\n",
              "    30% {\n",
              "      border-color: transparent;\n",
              "      border-left-color: var(--fill-color);\n",
              "      border-top-color: var(--fill-color);\n",
              "      border-right-color: var(--fill-color);\n",
              "    }\n",
              "    40% {\n",
              "      border-color: transparent;\n",
              "      border-right-color: var(--fill-color);\n",
              "      border-top-color: var(--fill-color);\n",
              "    }\n",
              "    60% {\n",
              "      border-color: transparent;\n",
              "      border-right-color: var(--fill-color);\n",
              "    }\n",
              "    80% {\n",
              "      border-color: transparent;\n",
              "      border-right-color: var(--fill-color);\n",
              "      border-bottom-color: var(--fill-color);\n",
              "    }\n",
              "    90% {\n",
              "      border-color: transparent;\n",
              "      border-bottom-color: var(--fill-color);\n",
              "    }\n",
              "  }\n",
              "</style>\n",
              "\n",
              "  <script>\n",
              "    async function quickchart(key) {\n",
              "      const quickchartButtonEl =\n",
              "        document.querySelector('#' + key + ' button');\n",
              "      quickchartButtonEl.disabled = true;  // To prevent multiple clicks.\n",
              "      quickchartButtonEl.classList.add('colab-df-spinner');\n",
              "      try {\n",
              "        const charts = await google.colab.kernel.invokeFunction(\n",
              "            'suggestCharts', [key], {});\n",
              "      } catch (error) {\n",
              "        console.error('Error during call to suggestCharts:', error);\n",
              "      }\n",
              "      quickchartButtonEl.classList.remove('colab-df-spinner');\n",
              "      quickchartButtonEl.classList.add('colab-df-quickchart-complete');\n",
              "    }\n",
              "    (() => {\n",
              "      let quickchartButtonEl =\n",
              "        document.querySelector('#df-730928f8-978b-41c2-acd6-af76c09fb5a9 button');\n",
              "      quickchartButtonEl.style.display =\n",
              "        google.colab.kernel.accessAllowed ? 'block' : 'none';\n",
              "    })();\n",
              "  </script>\n",
              "</div>\n",
              "    </div>\n",
              "  </div>\n"
            ]
          },
          "metadata": {},
          "execution_count": 76
        }
      ]
    },
    {
      "cell_type": "code",
      "source": [
        "filtered_df_notavailable = top_furnitures_df[top_furnitures_df['Furniture'].str.contains(r'\\bNo')]\n",
        "filtered_df_notavailable.reset_index().drop(columns=['index']).head(10)"
      ],
      "metadata": {
        "colab": {
          "base_uri": "https://localhost:8080/",
          "height": 363
        },
        "id": "2EcS9fPxeMPl",
        "outputId": "4ac8af13-2a3f-4127-d98d-6e66764ed125"
      },
      "id": "2EcS9fPxeMPl",
      "execution_count": 77,
      "outputs": [
        {
          "output_type": "execute_result",
          "data": {
            "text/plain": [
              "            Furniture  Count\n",
              "0              'NoTV'   2216\n",
              "1     'NoDiningTable'   2203\n",
              "2             'NoBed'   2196\n",
              "3            'NoSofa'   2189\n",
              "4  'NoWashingMachine'   2167\n",
              "5          'NoFridge'   2138\n",
              "6       'NoMicrowave'   2096\n",
              "7   'NoWaterPurifier'   1970\n",
              "8           'NoStove'   1861\n",
              "9        'NoCurtains'   1795"
            ],
            "text/html": [
              "\n",
              "  <div id=\"df-0c477195-77df-49de-8c6a-08baf63f8b2c\" class=\"colab-df-container\">\n",
              "    <div>\n",
              "<style scoped>\n",
              "    .dataframe tbody tr th:only-of-type {\n",
              "        vertical-align: middle;\n",
              "    }\n",
              "\n",
              "    .dataframe tbody tr th {\n",
              "        vertical-align: top;\n",
              "    }\n",
              "\n",
              "    .dataframe thead th {\n",
              "        text-align: right;\n",
              "    }\n",
              "</style>\n",
              "<table border=\"1\" class=\"dataframe\">\n",
              "  <thead>\n",
              "    <tr style=\"text-align: right;\">\n",
              "      <th></th>\n",
              "      <th>Furniture</th>\n",
              "      <th>Count</th>\n",
              "    </tr>\n",
              "  </thead>\n",
              "  <tbody>\n",
              "    <tr>\n",
              "      <th>0</th>\n",
              "      <td>'NoTV'</td>\n",
              "      <td>2216</td>\n",
              "    </tr>\n",
              "    <tr>\n",
              "      <th>1</th>\n",
              "      <td>'NoDiningTable'</td>\n",
              "      <td>2203</td>\n",
              "    </tr>\n",
              "    <tr>\n",
              "      <th>2</th>\n",
              "      <td>'NoBed'</td>\n",
              "      <td>2196</td>\n",
              "    </tr>\n",
              "    <tr>\n",
              "      <th>3</th>\n",
              "      <td>'NoSofa'</td>\n",
              "      <td>2189</td>\n",
              "    </tr>\n",
              "    <tr>\n",
              "      <th>4</th>\n",
              "      <td>'NoWashingMachine'</td>\n",
              "      <td>2167</td>\n",
              "    </tr>\n",
              "    <tr>\n",
              "      <th>5</th>\n",
              "      <td>'NoFridge'</td>\n",
              "      <td>2138</td>\n",
              "    </tr>\n",
              "    <tr>\n",
              "      <th>6</th>\n",
              "      <td>'NoMicrowave'</td>\n",
              "      <td>2096</td>\n",
              "    </tr>\n",
              "    <tr>\n",
              "      <th>7</th>\n",
              "      <td>'NoWaterPurifier'</td>\n",
              "      <td>1970</td>\n",
              "    </tr>\n",
              "    <tr>\n",
              "      <th>8</th>\n",
              "      <td>'NoStove'</td>\n",
              "      <td>1861</td>\n",
              "    </tr>\n",
              "    <tr>\n",
              "      <th>9</th>\n",
              "      <td>'NoCurtains'</td>\n",
              "      <td>1795</td>\n",
              "    </tr>\n",
              "  </tbody>\n",
              "</table>\n",
              "</div>\n",
              "    <div class=\"colab-df-buttons\">\n",
              "\n",
              "  <div class=\"colab-df-container\">\n",
              "    <button class=\"colab-df-convert\" onclick=\"convertToInteractive('df-0c477195-77df-49de-8c6a-08baf63f8b2c')\"\n",
              "            title=\"Convert this dataframe to an interactive table.\"\n",
              "            style=\"display:none;\">\n",
              "\n",
              "  <svg xmlns=\"http://www.w3.org/2000/svg\" height=\"24px\" viewBox=\"0 -960 960 960\">\n",
              "    <path d=\"M120-120v-720h720v720H120Zm60-500h600v-160H180v160Zm220 220h160v-160H400v160Zm0 220h160v-160H400v160ZM180-400h160v-160H180v160Zm440 0h160v-160H620v160ZM180-180h160v-160H180v160Zm440 0h160v-160H620v160Z\"/>\n",
              "  </svg>\n",
              "    </button>\n",
              "\n",
              "  <style>\n",
              "    .colab-df-container {\n",
              "      display:flex;\n",
              "      gap: 12px;\n",
              "    }\n",
              "\n",
              "    .colab-df-convert {\n",
              "      background-color: #E8F0FE;\n",
              "      border: none;\n",
              "      border-radius: 50%;\n",
              "      cursor: pointer;\n",
              "      display: none;\n",
              "      fill: #1967D2;\n",
              "      height: 32px;\n",
              "      padding: 0 0 0 0;\n",
              "      width: 32px;\n",
              "    }\n",
              "\n",
              "    .colab-df-convert:hover {\n",
              "      background-color: #E2EBFA;\n",
              "      box-shadow: 0px 1px 2px rgba(60, 64, 67, 0.3), 0px 1px 3px 1px rgba(60, 64, 67, 0.15);\n",
              "      fill: #174EA6;\n",
              "    }\n",
              "\n",
              "    .colab-df-buttons div {\n",
              "      margin-bottom: 4px;\n",
              "    }\n",
              "\n",
              "    [theme=dark] .colab-df-convert {\n",
              "      background-color: #3B4455;\n",
              "      fill: #D2E3FC;\n",
              "    }\n",
              "\n",
              "    [theme=dark] .colab-df-convert:hover {\n",
              "      background-color: #434B5C;\n",
              "      box-shadow: 0px 1px 3px 1px rgba(0, 0, 0, 0.15);\n",
              "      filter: drop-shadow(0px 1px 2px rgba(0, 0, 0, 0.3));\n",
              "      fill: #FFFFFF;\n",
              "    }\n",
              "  </style>\n",
              "\n",
              "    <script>\n",
              "      const buttonEl =\n",
              "        document.querySelector('#df-0c477195-77df-49de-8c6a-08baf63f8b2c button.colab-df-convert');\n",
              "      buttonEl.style.display =\n",
              "        google.colab.kernel.accessAllowed ? 'block' : 'none';\n",
              "\n",
              "      async function convertToInteractive(key) {\n",
              "        const element = document.querySelector('#df-0c477195-77df-49de-8c6a-08baf63f8b2c');\n",
              "        const dataTable =\n",
              "          await google.colab.kernel.invokeFunction('convertToInteractive',\n",
              "                                                    [key], {});\n",
              "        if (!dataTable) return;\n",
              "\n",
              "        const docLinkHtml = 'Like what you see? Visit the ' +\n",
              "          '<a target=\"_blank\" href=https://colab.research.google.com/notebooks/data_table.ipynb>data table notebook</a>'\n",
              "          + ' to learn more about interactive tables.';\n",
              "        element.innerHTML = '';\n",
              "        dataTable['output_type'] = 'display_data';\n",
              "        await google.colab.output.renderOutput(dataTable, element);\n",
              "        const docLink = document.createElement('div');\n",
              "        docLink.innerHTML = docLinkHtml;\n",
              "        element.appendChild(docLink);\n",
              "      }\n",
              "    </script>\n",
              "  </div>\n",
              "\n",
              "\n",
              "<div id=\"df-1c9b902c-87e2-4ef5-8089-144674f741d4\">\n",
              "  <button class=\"colab-df-quickchart\" onclick=\"quickchart('df-1c9b902c-87e2-4ef5-8089-144674f741d4')\"\n",
              "            title=\"Suggest charts\"\n",
              "            style=\"display:none;\">\n",
              "\n",
              "<svg xmlns=\"http://www.w3.org/2000/svg\" height=\"24px\"viewBox=\"0 0 24 24\"\n",
              "     width=\"24px\">\n",
              "    <g>\n",
              "        <path d=\"M19 3H5c-1.1 0-2 .9-2 2v14c0 1.1.9 2 2 2h14c1.1 0 2-.9 2-2V5c0-1.1-.9-2-2-2zM9 17H7v-7h2v7zm4 0h-2V7h2v10zm4 0h-2v-4h2v4z\"/>\n",
              "    </g>\n",
              "</svg>\n",
              "  </button>\n",
              "\n",
              "<style>\n",
              "  .colab-df-quickchart {\n",
              "      --bg-color: #E8F0FE;\n",
              "      --fill-color: #1967D2;\n",
              "      --hover-bg-color: #E2EBFA;\n",
              "      --hover-fill-color: #174EA6;\n",
              "      --disabled-fill-color: #AAA;\n",
              "      --disabled-bg-color: #DDD;\n",
              "  }\n",
              "\n",
              "  [theme=dark] .colab-df-quickchart {\n",
              "      --bg-color: #3B4455;\n",
              "      --fill-color: #D2E3FC;\n",
              "      --hover-bg-color: #434B5C;\n",
              "      --hover-fill-color: #FFFFFF;\n",
              "      --disabled-bg-color: #3B4455;\n",
              "      --disabled-fill-color: #666;\n",
              "  }\n",
              "\n",
              "  .colab-df-quickchart {\n",
              "    background-color: var(--bg-color);\n",
              "    border: none;\n",
              "    border-radius: 50%;\n",
              "    cursor: pointer;\n",
              "    display: none;\n",
              "    fill: var(--fill-color);\n",
              "    height: 32px;\n",
              "    padding: 0;\n",
              "    width: 32px;\n",
              "  }\n",
              "\n",
              "  .colab-df-quickchart:hover {\n",
              "    background-color: var(--hover-bg-color);\n",
              "    box-shadow: 0 1px 2px rgba(60, 64, 67, 0.3), 0 1px 3px 1px rgba(60, 64, 67, 0.15);\n",
              "    fill: var(--button-hover-fill-color);\n",
              "  }\n",
              "\n",
              "  .colab-df-quickchart-complete:disabled,\n",
              "  .colab-df-quickchart-complete:disabled:hover {\n",
              "    background-color: var(--disabled-bg-color);\n",
              "    fill: var(--disabled-fill-color);\n",
              "    box-shadow: none;\n",
              "  }\n",
              "\n",
              "  .colab-df-spinner {\n",
              "    border: 2px solid var(--fill-color);\n",
              "    border-color: transparent;\n",
              "    border-bottom-color: var(--fill-color);\n",
              "    animation:\n",
              "      spin 1s steps(1) infinite;\n",
              "  }\n",
              "\n",
              "  @keyframes spin {\n",
              "    0% {\n",
              "      border-color: transparent;\n",
              "      border-bottom-color: var(--fill-color);\n",
              "      border-left-color: var(--fill-color);\n",
              "    }\n",
              "    20% {\n",
              "      border-color: transparent;\n",
              "      border-left-color: var(--fill-color);\n",
              "      border-top-color: var(--fill-color);\n",
              "    }\n",
              "    30% {\n",
              "      border-color: transparent;\n",
              "      border-left-color: var(--fill-color);\n",
              "      border-top-color: var(--fill-color);\n",
              "      border-right-color: var(--fill-color);\n",
              "    }\n",
              "    40% {\n",
              "      border-color: transparent;\n",
              "      border-right-color: var(--fill-color);\n",
              "      border-top-color: var(--fill-color);\n",
              "    }\n",
              "    60% {\n",
              "      border-color: transparent;\n",
              "      border-right-color: var(--fill-color);\n",
              "    }\n",
              "    80% {\n",
              "      border-color: transparent;\n",
              "      border-right-color: var(--fill-color);\n",
              "      border-bottom-color: var(--fill-color);\n",
              "    }\n",
              "    90% {\n",
              "      border-color: transparent;\n",
              "      border-bottom-color: var(--fill-color);\n",
              "    }\n",
              "  }\n",
              "</style>\n",
              "\n",
              "  <script>\n",
              "    async function quickchart(key) {\n",
              "      const quickchartButtonEl =\n",
              "        document.querySelector('#' + key + ' button');\n",
              "      quickchartButtonEl.disabled = true;  // To prevent multiple clicks.\n",
              "      quickchartButtonEl.classList.add('colab-df-spinner');\n",
              "      try {\n",
              "        const charts = await google.colab.kernel.invokeFunction(\n",
              "            'suggestCharts', [key], {});\n",
              "      } catch (error) {\n",
              "        console.error('Error during call to suggestCharts:', error);\n",
              "      }\n",
              "      quickchartButtonEl.classList.remove('colab-df-spinner');\n",
              "      quickchartButtonEl.classList.add('colab-df-quickchart-complete');\n",
              "    }\n",
              "    (() => {\n",
              "      let quickchartButtonEl =\n",
              "        document.querySelector('#df-1c9b902c-87e2-4ef5-8089-144674f741d4 button');\n",
              "      quickchartButtonEl.style.display =\n",
              "        google.colab.kernel.accessAllowed ? 'block' : 'none';\n",
              "    })();\n",
              "  </script>\n",
              "</div>\n",
              "    </div>\n",
              "  </div>\n"
            ]
          },
          "metadata": {},
          "execution_count": 77
        }
      ]
    },
    {
      "cell_type": "markdown",
      "source": [
        "# Features"
      ],
      "metadata": {
        "id": "wfBBgxhTHgY2"
      },
      "id": "wfBBgxhTHgY2"
    },
    {
      "cell_type": "code",
      "source": [
        "df_eda = df.copy()"
      ],
      "metadata": {
        "id": "JHOQ2dx-Vu_j"
      },
      "id": "JHOQ2dx-Vu_j",
      "execution_count": 78,
      "outputs": []
    },
    {
      "cell_type": "code",
      "source": [
        "df_eda['features'].isnull().sum()"
      ],
      "metadata": {
        "colab": {
          "base_uri": "https://localhost:8080/"
        },
        "id": "cZ3kxh5qHfr8",
        "outputId": "886c2da4-3c1d-4b87-937c-db20b0b11566"
      },
      "id": "cZ3kxh5qHfr8",
      "execution_count": 79,
      "outputs": [
        {
          "output_type": "execute_result",
          "data": {
            "text/plain": [
              "599"
            ]
          },
          "metadata": {},
          "execution_count": 79
        }
      ]
    },
    {
      "cell_type": "code",
      "source": [
        "df_eda['features'].fillna('NA',inplace=True)"
      ],
      "metadata": {
        "id": "pY7qbEZvIo7J"
      },
      "id": "pY7qbEZvIo7J",
      "execution_count": 80,
      "outputs": []
    },
    {
      "cell_type": "code",
      "source": [
        "df_eda['features'] = df_eda['features'].str.strip('[]')"
      ],
      "metadata": {
        "id": "YEsJ3f-qSyhr"
      },
      "id": "YEsJ3f-qSyhr",
      "execution_count": 81,
      "outputs": []
    },
    {
      "cell_type": "code",
      "source": [
        "df_eda['features'] = df_eda['features'].apply(lambda x: x.strip('\"\"').split(', '))"
      ],
      "metadata": {
        "id": "CxoHJ0E5UzBc"
      },
      "id": "CxoHJ0E5UzBc",
      "execution_count": 82,
      "outputs": []
    },
    {
      "cell_type": "code",
      "source": [
        "df_exploded = df_eda.explode('features')\n",
        "top_features = df_exploded['features'].value_counts().head(10)\n",
        "\n",
        "# Create a DataFrame for the top features\n",
        "top_features_df = pd.DataFrame({'Feature': top_features.index, 'Count': top_features.values})\n",
        "\n",
        "print(top_features_df.head())"
      ],
      "metadata": {
        "colab": {
          "base_uri": "https://localhost:8080/"
        },
        "id": "psgX1J6rR73t",
        "outputId": "cde280d2-2252-4579-f07a-0778edac2c2e"
      },
      "id": "psgX1J6rR73t",
      "execution_count": 83,
      "outputs": [
        {
          "output_type": "stream",
          "name": "stdout",
          "text": [
            "               Feature  Count\n",
            "0               'Park'   2767\n",
            "1  'Maintenance Staff'   2469\n",
            "2            'Lift(s)'   2354\n",
            "3    'Visitor Parking'   2324\n",
            "4      'Water Storage'   2207\n"
          ]
        }
      ]
    }
  ],
  "metadata": {
    "kernelspec": {
      "display_name": "Python 3 (ipykernel)",
      "language": "python",
      "name": "python3"
    },
    "language_info": {
      "codemirror_mode": {
        "name": "ipython",
        "version": 3
      },
      "file_extension": ".py",
      "mimetype": "text/x-python",
      "name": "python",
      "nbconvert_exporter": "python",
      "pygments_lexer": "ipython3",
      "version": "3.9.7"
    },
    "colab": {
      "provenance": []
    }
  },
  "nbformat": 4,
  "nbformat_minor": 5
}